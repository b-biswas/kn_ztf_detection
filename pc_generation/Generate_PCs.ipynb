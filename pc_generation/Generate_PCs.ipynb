{
 "cells": [
  {
   "cell_type": "code",
   "execution_count": 1,
   "id": "0939b214-cca5-4c44-a131-78049746a751",
   "metadata": {},
   "outputs": [],
   "source": [
    "import pandas as pd\n",
    "\n",
    "import numpy as np\n",
    "import matplotlib.pyplot as plt\n",
    "from random import random\n",
    "from src.io_utils import *"
   ]
  },
  {
   "cell_type": "code",
   "execution_count": 2,
   "id": "3f2cf8f7-3090-44d0-bf9a-2058f457bfea",
   "metadata": {},
   "outputs": [],
   "source": [
    "import os"
   ]
  },
  {
   "cell_type": "code",
   "execution_count": 3,
   "id": "066b96a5-f232-4554-8179-6b2871c80db1",
   "metadata": {},
   "outputs": [],
   "source": [
    "from src.LightCurve import LightCurve"
   ]
  },
  {
   "cell_type": "markdown",
   "id": "0c6fde97-e989-415a-83c6-346d466fb68b",
   "metadata": {},
   "source": [
    "### Load data"
   ]
  },
  {
   "cell_type": "code",
   "execution_count": 4,
   "id": "ccdfb8e2-5734-43b7-9ffd-e7a96ac8534d",
   "metadata": {},
   "outputs": [],
   "source": [
    "path_perfect_sims_phot = \"/sps/lsst/users/bbiswas/data/kilonova_datasets/RESSPECT/RESSPECT_PERFECT_LIGHTCURVE_WITH_KN.csv\"\n",
    "path_perfect_sims_head = \"/sps/lsst/users/bbiswas/data/kilonova_datasets/RESSPECT/RESSPECT_PERFECT_HEAD_WITH_KN.csv\""
   ]
  },
  {
   "cell_type": "code",
   "execution_count": 5,
   "id": "615f1a52-8a84-487a-a00e-fca82d49ba87",
   "metadata": {},
   "outputs": [],
   "source": [
    "data_ob = load_RESSPECT_data(phot_df_file_path=path_perfect_sims_phot, meta_df_file_path=path_perfect_sims_head)\n"
   ]
  },
  {
   "cell_type": "code",
   "execution_count": 6,
   "id": "23083868-41b0-4d7f-a5cd-6d2b725fdbed",
   "metadata": {},
   "outputs": [],
   "source": [
    "from src.Generate_PC_utils import get_event_distirb"
   ]
  },
  {
   "cell_type": "code",
   "execution_count": 7,
   "id": "eb05de30-00bd-4ae9-bcbc-f8702aeeb6fd",
   "metadata": {},
   "outputs": [
    {
     "name": "stdout",
     "output_type": "stream",
     "text": [
      "{'Ibc_V19': 1000, 'IIn': 689, 'Ia': 3000, 'II_V19': 1000, 'II-NMF': 1000, '91bg': 863, 'Iax': 1000, 'Ibc-MOSFIT': 421, 'KN': 1000}\n"
     ]
    }
   ],
   "source": [
    "event_distrib = get_event_distirb(data_ob)\n",
    "print(event_distrib)"
   ]
  },
  {
   "cell_type": "code",
   "execution_count": 8,
   "id": "cd2ec599-9e04-49ff-a217-0061f6c65a87",
   "metadata": {},
   "outputs": [],
   "source": [
    "from kndetect.utils import get_data_dir_path"
   ]
  },
  {
   "cell_type": "code",
   "execution_count": 9,
   "id": "5563470c-c34c-4f11-b26a-8bca381123da",
   "metadata": {},
   "outputs": [],
   "source": [
    "data_dir = get_data_dir_path()"
   ]
  },
  {
   "cell_type": "markdown",
   "id": "3dac2bba-db50-4fbb-b3a9-4dea2ae04e5a",
   "metadata": {},
   "source": [
    "### Filter objects with readings every 2 days"
   ]
  },
  {
   "cell_type": "code",
   "execution_count": 10,
   "id": "407f86d8-775c-4916-9b14-edd234a417e0",
   "metadata": {},
   "outputs": [],
   "source": [
    "from src.Generate_PC_utils import get_ids_of_eqally_spaced_objects"
   ]
  },
  {
   "cell_type": "code",
   "execution_count": 11,
   "id": "887e46d0-c563-473b-ac0b-1eba34331d41",
   "metadata": {},
   "outputs": [],
   "source": [
    "#equally_spaced_ids = get_ids_of_eqally_spaced_objects(data_ob)\n",
    "#event_distrib = get_event_distirb(data_ob, equally_spaced_ids)\n",
    "#print(event_distrib)"
   ]
  },
  {
   "cell_type": "code",
   "execution_count": 12,
   "id": "8cb39d4d-cefb-4f78-94aa-38797ed44786",
   "metadata": {},
   "outputs": [],
   "source": [
    "#np.save(data_dir+\"equally_spaced_ids\", equally_spaced_ids)"
   ]
  },
  {
   "cell_type": "code",
   "execution_count": 13,
   "id": "fbd23445-7d4e-4d3a-9263-7127d791f925",
   "metadata": {},
   "outputs": [
    {
     "name": "stdout",
     "output_type": "stream",
     "text": [
      "{'Ibc_V19': 584, 'IIn': 381, 'II_V19': 567, 'II-NMF': 621, 'Iax': 601, 'Ia': 849, '91bg': 558, 'Ibc-MOSFIT': 248, 'KN': 1000}\n"
     ]
    }
   ],
   "source": [
    "equally_spaced_ids = np.load(data_dir+\"equally_spaced_ids.npy\")\n",
    "event_distrib = get_event_distirb(data_ob, equally_spaced_ids)\n",
    "print(event_distrib)"
   ]
  },
  {
   "cell_type": "markdown",
   "id": "b26b1277-fde7-4d5f-9c74-c2b962a3c6d7",
   "metadata": {},
   "source": [
    "# Generating PCs for non-KN events"
   ]
  },
  {
   "cell_type": "code",
   "execution_count": 14,
   "id": "4393808f-68b2-45cc-9278-a32d962e6ce3",
   "metadata": {},
   "outputs": [],
   "source": [
    "use_only_KN_events = False\n",
    "save_results = True"
   ]
  },
  {
   "cell_type": "markdown",
   "id": "70cafa70-6569-43d8-b037-f5aaf1343a5e",
   "metadata": {},
   "source": [
    "### Create train data with specific distribution of Data"
   ]
  },
  {
   "cell_type": "code",
   "execution_count": 15,
   "id": "fcfc0a4a-ffb3-44a4-a39d-b5a630274f7c",
   "metadata": {},
   "outputs": [],
   "source": [
    "from src.Generate_PC_utils import get_ids_for_target_distrib"
   ]
  },
  {
   "cell_type": "code",
   "execution_count": 16,
   "id": "d6b65648-d552-4eb0-b472-659289a2d422",
   "metadata": {},
   "outputs": [],
   "source": [
    "target_distrib = {'91bg': 125, 'II-NMF': 125, 'II_V19': 125, 'IIn': 125, 'Ia': 125, 'Iax': 125, 'Ibc-MOSFIT': 125, 'Ibc_V19': 125, 'KN': 1000}"
   ]
  },
  {
   "cell_type": "code",
   "execution_count": 17,
   "id": "f0ab2f8a-4501-453c-be6d-f4b2bb9eef26",
   "metadata": {},
   "outputs": [
    {
     "name": "stdout",
     "output_type": "stream",
     "text": [
      "{'II-NMF': 125, 'II_V19': 125, '91bg': 125, 'Iax': 125, 'Ibc_V19': 125, 'KN': 1000, 'Ia': 125, 'IIn': 125, 'Ibc-MOSFIT': 125}\n"
     ]
    }
   ],
   "source": [
    "target_ids = get_ids_for_target_distrib(data_ob, target_distrib, equally_spaced_ids)\n",
    "event_distrib = get_event_distirb(data_ob, target_ids)\n",
    "print(event_distrib)"
   ]
  },
  {
   "cell_type": "markdown",
   "id": "0b4e4bc7-7a9e-441d-be88-cd1c47fa36b8",
   "metadata": {},
   "source": [
    "### Generate PCS"
   ]
  },
  {
   "cell_type": "code",
   "execution_count": 18,
   "id": "2d206e07-3c7e-438e-a2a4-aa6fda60d06f",
   "metadata": {},
   "outputs": [],
   "source": [
    "from src.Generate_PC_utils import stack_training_data, gen_components"
   ]
  },
  {
   "cell_type": "code",
   "execution_count": 19,
   "id": "291183c2-32f4-4f88-a138-7db243b1d36c",
   "metadata": {
    "tags": []
   },
   "outputs": [],
   "source": [
    "train_data = stack_training_data(data_ob, object_ids=target_ids, num_days_tolerance=2, plot_results=False)\n",
    "plt.close('all')"
   ]
  },
  {
   "cell_type": "code",
   "execution_count": 20,
   "id": "853af1d6-ab19-4f22-85e4-1f31eed74583",
   "metadata": {},
   "outputs": [],
   "source": [
    "if save_results:\n",
    "\n",
    "    np.save(data_dir+\"/PC_generation_dataset_mixed.npy\", train_data)"
   ]
  },
  {
   "cell_type": "code",
   "execution_count": 21,
   "id": "a7ef0bc3-116e-421f-9244-a92e996b14cb",
   "metadata": {},
   "outputs": [
    {
     "name": "stdout",
     "output_type": "stream",
     "text": [
      "(4000, 51)\n",
      "{'all': array([8.72569059e-01, 4.69688892e-02, 4.37735881e-02, 2.12770799e-02,\n",
      "       8.19753034e-03, 2.26301862e-03, 1.70288467e-03, 8.19220639e-04,\n",
      "       7.33780930e-04, 5.47431507e-04])}\n"
     ]
    }
   ],
   "source": [
    "PC_dict, PC_var_ratio = gen_components(train_data)\n",
    "print(PC_var_ratio)\n",
    "band = 'all'\n",
    "PCs= PC_dict[band]"
   ]
  },
  {
   "cell_type": "code",
   "execution_count": 22,
   "id": "3f41c5a2-8eb3-4013-a4de-7a6c1d9c1709",
   "metadata": {},
   "outputs": [
    {
     "name": "stdout",
     "output_type": "stream",
     "text": [
      "all band\n"
     ]
    },
    {
     "data": {
      "image/png": "[encoded data removed]",
      "text/plain": [
       "<Figure size 720x360 with 1 Axes>"
      ]
     },
     "metadata": {
      "needs_background": "light"
     },
     "output_type": "display_data"
    }
   ],
   "source": [
    "markers = ['o','s','D','*','x']\n",
    "\n",
    "band = 'all'\n",
    "\n",
    "print(band+ \" band\")\n",
    "PCs= PC_dict[band]\n",
    "fig = plt.figure(figsize=(10,5))\n",
    "for i in range(3):\n",
    "    PC = PCs[i]\n",
    "    x = np.arange(0,102,2)-50\n",
    "    plt.plot(x,PC,marker=markers[i],label = \"PC \"+str(i+1))\n",
    "\n",
    "plt.xlabel(\"days since maximum\", fontsize = 25)\n",
    "plt.ylabel(\"PCs\", fontsize=25)\n",
    "\n",
    "plt.rc('xtick', labelsize=17)    \n",
    "plt.rc('ytick', labelsize=17) \n",
    "\n",
    "plt.rc('legend', fontsize=15)\n",
    "plt.legend()\n",
    "plt.tight_layout()\n",
    "plt.show()"
   ]
  },
  {
   "cell_type": "code",
   "execution_count": 23,
   "id": "1a73c0c4-ea99-4738-92b1-56f5adb86d1d",
   "metadata": {},
   "outputs": [],
   "source": [
    "if save_results:\n",
    "\n",
    "        np.save(data_dir+'/pc_var_ratio_mixed_pcs.npy', PC_var_ratio)\n",
    "        np.save(data_dir+\"/mixed_pcs\",PC_dict)"
   ]
  },
  {
   "cell_type": "markdown",
   "id": "68cda0fc-2996-452a-9fe9-00d15b18ad91",
   "metadata": {},
   "source": [
    "# Now interpolate"
   ]
  },
  {
   "cell_type": "code",
   "execution_count": 24,
   "id": "5a1e37d9-0510-4d63-8977-f2b3bf4c038f",
   "metadata": {},
   "outputs": [],
   "source": [
    "import matplotlib.pyplot as plt\n",
    "from src.io_utils import get_pcs"
   ]
  },
  {
   "cell_type": "code",
   "execution_count": 25,
   "id": "2818dbe6-3e74-45af-bdd3-091b17abffec",
   "metadata": {},
   "outputs": [],
   "source": [
    "num_pc_components=3\n",
    "bands=['g','r']"
   ]
  },
  {
   "cell_type": "code",
   "execution_count": 26,
   "id": "9ad37a3d-2729-43ba-97c2-bb60ed1d59fd",
   "metadata": {},
   "outputs": [],
   "source": [
    "pcs = get_pcs(num_pc_components, pcs_choice='non-interpolated', normalize_pcs=False)"
   ]
  },
  {
   "cell_type": "code",
   "execution_count": 27,
   "id": "0af2ce01-18f4-495b-b2e4-18190243c009",
   "metadata": {},
   "outputs": [
    {
     "data": {
      "text/plain": [
       "<matplotlib.legend.Legend at 0x7fc642b148e0>"
      ]
     },
     "execution_count": 27,
     "metadata": {},
     "output_type": "execute_result"
    },
    {
     "data": {
      "image/png": "[encoded data removed]",
      "text/plain": [
       "<Figure size 720x360 with 1 Axes>"
      ]
     },
     "metadata": {
      "needs_background": "light"
     },
     "output_type": "display_data"
    }
   ],
   "source": [
    "import numpy as np\n",
    "fig = plt.figure(figsize=(10,5))\n",
    "\n",
    "for i in range(num_pc_components):\n",
    "    PC = pcs[i]\n",
    "    x = np.arange(0,102,2)-50\n",
    "    plt.scatter(x,PC,label = \"PC \"+str(i+1))\n",
    "plt.legend()"
   ]
  },
  {
   "cell_type": "code",
   "execution_count": 28,
   "id": "18f5d9b6-feea-45fb-878b-773c1f569351",
   "metadata": {},
   "outputs": [],
   "source": [
    "x = np.linspace(-50, 50, num=51, endpoint=True)\n",
    "xnew = np.linspace(-50, 50, num=401, endpoint=True)"
   ]
  },
  {
   "cell_type": "code",
   "execution_count": 29,
   "id": "834d2f96-122d-4720-b213-8868233bcdad",
   "metadata": {},
   "outputs": [
    {
     "data": {
      "text/plain": [
       "(51,)"
      ]
     },
     "execution_count": 29,
     "metadata": {},
     "output_type": "execute_result"
    }
   ],
   "source": [
    "np.shape(x)"
   ]
  },
  {
   "cell_type": "code",
   "execution_count": 30,
   "id": "9a00668c-a39a-47b2-b74d-07435a16cb51",
   "metadata": {},
   "outputs": [],
   "source": [
    "from scipy.interpolate import interp1d\n",
    "PC_inter_func = []\n",
    "\n",
    "PC_new=[]\n",
    "for i in range(3):\n",
    "    func = interp1d(x, pcs[i], kind='quadratic')\n",
    "    PC_inter_func.append(func)\n",
    "    PC_new.append(func(xnew))"
   ]
  },
  {
   "cell_type": "code",
   "execution_count": 31,
   "id": "27c4ee89-db75-455b-831c-6c92b029cd67",
   "metadata": {},
   "outputs": [],
   "source": [
    "PC_new = np.array(PC_new)"
   ]
  },
  {
   "cell_type": "code",
   "execution_count": 32,
   "id": "ba1410e8-6f46-4e56-8ae6-bf0f9c3e555f",
   "metadata": {},
   "outputs": [
    {
     "data": {
      "text/plain": [
       "(3, 401)"
      ]
     },
     "execution_count": 32,
     "metadata": {},
     "output_type": "execute_result"
    }
   ],
   "source": [
    "np.shape(PC_new)"
   ]
  },
  {
   "cell_type": "code",
   "execution_count": 33,
   "id": "b5c96e80-7658-4612-ab98-b84afb2e539c",
   "metadata": {},
   "outputs": [
    {
     "data": {
      "image/png": "[encoded data removed]",
      "text/plain": [
       "<Figure size 720x360 with 1 Axes>"
      ]
     },
     "metadata": {
      "needs_background": "light"
     },
     "output_type": "display_data"
    }
   ],
   "source": [
    "import numpy as np\n",
    "fig = plt.figure(figsize=(10,5))\n",
    "pc_names = [\"PC1 non-KN\", \"PC2 non-KN\", \"PC1 KN\"]\n",
    "colors = ['#F5622E', '#15284F', '#3C8DFF'] \n",
    "markers = ['o','s','D','*','x']\n",
    "for i in range(num_pc_components):\n",
    "    max_val = np.amax(np.abs(PC_new[i]))\n",
    "    PC_new[i] = PC_new[i]/max_val\n",
    "    PC = PC_new[i]\n",
    "    plt.plot(xnew,PC,label = pc_names[i], marker=markers[i], ms=5, color=colors[i])\n",
    "plt.xlabel(\"days since maximum\", fontsize=25)\n",
    "plt.ylabel(\"normalized PCs\", fontsize=25)\n",
    "ax = plt. gca()\n",
    "\n",
    "leg = ax.legend()\n",
    "\n",
    "plt.rc('xtick', labelsize=17)    \n",
    "plt.rc('ytick', labelsize=17) \n",
    "\n",
    "plt.rc('legend', loc='lower right', fontsize=15)\n",
    "plt.legend()\n",
    "plt.tight_layout()\n",
    "#plt.savefig(\"results/PC_plots/interpolated_pcs.pdf\")"
   ]
  },
  {
   "cell_type": "code",
   "execution_count": 34,
   "id": "14044d6c-73f4-423b-9ff5-ce93bc28071b",
   "metadata": {},
   "outputs": [],
   "source": [
    "np.save(data_dir+'/interpolated_mixed_pcs.npy', PC_new)"
   ]
  },
  {
   "cell_type": "code",
   "execution_count": 35,
   "id": "8b063d8a-b3a6-4197-9d02-bf19ca2a6a49",
   "metadata": {},
   "outputs": [],
   "source": [
    "pcs = get_pcs(num_pc_components, pcs_choice='interpolated', normalize_pcs=False)"
   ]
  },
  {
   "cell_type": "code",
   "execution_count": null,
   "id": "a35dbae9-e18c-4e67-9a38-78b76e05579e",
   "metadata": {},
   "outputs": [],
   "source": []
  }
 ],
 "metadata": {
  "kernelspec": {
   "display_name": "kndetect",
   "language": "python",
   "name": "kndetect"
  },
  "language_info": {
   "codemirror_mode": {
    "name": "ipython",
    "version": 3
   },
   "file_extension": ".py",
   "mimetype": "text/x-python",
   "name": "python",
   "nbconvert_exporter": "python",
   "pygments_lexer": "ipython3",
   "version": "3.8.0"
  }
 },
 "nbformat": 4,
 "nbformat_minor": 5
}
