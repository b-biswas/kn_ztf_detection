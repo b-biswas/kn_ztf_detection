{
 "cells": [
  {
   "cell_type": "code",
   "execution_count": 1,
   "id": "fb32441c-9cf0-4ec9-93f3-bb4c893f6c3c",
   "metadata": {},
   "outputs": [],
   "source": [
    "import os \n",
    "import numpy as np\n",
    "import pandas as pd\n",
    "import pickle \n",
    "from astropy.table import Table"
   ]
  },
  {
   "cell_type": "code",
   "execution_count": 2,
   "id": "f6938269-4eb6-410a-bbdc-16f121c4c45b",
   "metadata": {},
   "outputs": [],
   "source": [
    "train_data_head_path = '/sps/lsst/users/bbiswas/data/kilonova_datasets/train_final_master_HEAD.FITS'\n",
    "train_data_phot_path = '/sps/lsst/users/bbiswas/data/kilonova_datasets/train_final_master_PHOT.FITS'\n",
    "test_data_head_path = '/sps/lsst/users/bbiswas/data/kilonova_datasets/test_final_master_HEAD.FITS'\n",
    "test_data_phot_path = '/sps/lsst/users/bbiswas/data/kilonova_datasets/test_final_master_PHOT.FITS'"
   ]
  },
  {
   "cell_type": "code",
   "execution_count": 3,
   "id": "029656f1-e929-4749-9ee9-47266c70bef4",
   "metadata": {},
   "outputs": [],
   "source": [
    "df_header = Table.read(train_data_head_path, format='fits').to_pandas()\n",
    "df_phot = Table.read(train_data_phot_path, format='fits').to_pandas()"
   ]
  },
  {
   "cell_type": "code",
   "execution_count": 4,
   "id": "42eb80fa-b707-4322-a542-5faf20691c2c",
   "metadata": {},
   "outputs": [],
   "source": [
    "from kndetect.utils import load_pcs, get_event_type, get_data_dir_path\n",
    "from kndetect.features import extract_features_all_lightcurves\n",
    "from kndetect.training import append_y_true_col"
   ]
  },
  {
   "cell_type": "code",
   "execution_count": 5,
   "id": "af72cf71-5e02-4ddf-a865-86a3f430bd20",
   "metadata": {},
   "outputs": [],
   "source": [
    "pcs = load_pcs()\n",
    "data_dir = get_data_dir_path()"
   ]
  },
  {
   "cell_type": "code",
   "execution_count": 6,
   "id": "eb61a952-d3de-4dab-b023-a2b71ade3ea4",
   "metadata": {},
   "outputs": [],
   "source": [
    "use_already_trained_features = False\n",
    "use_already_trained_models = False\n",
    "mimic_alerts = True\n",
    "save_data = True\n",
    "\n",
    "if mimic_alerts:\n",
    "    sub_directory = \"partial\"\n",
    "else: \n",
    "    sub_directory = \"complete\""
   ]
  },
  {
   "cell_type": "code",
   "execution_count": 7,
   "id": "cafe266c-8727-4789-a83c-10b63489012e",
   "metadata": {},
   "outputs": [
    {
     "name": "stderr",
     "output_type": "stream",
     "text": [
      "100%|██████████| 22280/22280 [06:40<00:00, 55.62it/s]\n"
     ]
    }
   ],
   "source": [
    "if use_already_trained_features:\n",
    "    train_features_df = pd.read_csv(os.path.join(data_dir, sub_directory, \"train_features.csv\"),index_col=0)\n",
    "\n",
    "else:\n",
    "    train_features_df = extract_features_all_lightcurves(df_phot, \n",
    "                                                         \"SNID\", \n",
    "                                                         pcs, \n",
    "                                                         [b'g', b'r'],\n",
    "                                                         mimic_alerts=mimic_alerts)\n",
    "    train_features_df = append_y_true_col(features_df=train_features_df,\n",
    "                                          prediction_type_nos=[149, 150, 151],\n",
    "                                          meta_df = df_header, \n",
    "                                          meta_key_col_name = \"SNID\",\n",
    "                                          meta_type_col_name = \"SNTYPE\")"
   ]
  },
  {
   "cell_type": "code",
   "execution_count": 8,
   "id": "5eda8da4-12c0-477f-843c-a7e48840516e",
   "metadata": {},
   "outputs": [
    {
     "data": {
      "text/html": [
       "<div>\n",
       "<style scoped>\n",
       "    .dataframe tbody tr th:only-of-type {\n",
       "        vertical-align: middle;\n",
       "    }\n",
       "\n",
       "    .dataframe tbody tr th {\n",
       "        vertical-align: top;\n",
       "    }\n",
       "\n",
       "    .dataframe thead th {\n",
       "        text-align: right;\n",
       "    }\n",
       "</style>\n",
       "<table border=\"1\" class=\"dataframe\">\n",
       "  <thead>\n",
       "    <tr style=\"text-align: right;\">\n",
       "      <th></th>\n",
       "      <th>coeff1_g</th>\n",
       "      <th>coeff2_g</th>\n",
       "      <th>coeff3_g</th>\n",
       "      <th>residuo_g</th>\n",
       "      <th>maxflux_g</th>\n",
       "      <th>coeff1_r</th>\n",
       "      <th>coeff2_r</th>\n",
       "      <th>coeff3_r</th>\n",
       "      <th>residuo_r</th>\n",
       "      <th>maxflux_r</th>\n",
       "      <th>key</th>\n",
       "      <th>current_dates</th>\n",
       "      <th>type</th>\n",
       "      <th>type_names</th>\n",
       "      <th>y_true</th>\n",
       "    </tr>\n",
       "  </thead>\n",
       "  <tbody>\n",
       "    <tr>\n",
       "      <th>0</th>\n",
       "      <td>0.632028</td>\n",
       "      <td>0.008088</td>\n",
       "      <td>0.366976</td>\n",
       "      <td>0.958710</td>\n",
       "      <td>230.670456</td>\n",
       "      <td>0.727304</td>\n",
       "      <td>-0.098875</td>\n",
       "      <td>0.355660</td>\n",
       "      <td>1.610522</td>\n",
       "      <td>373.748047</td>\n",
       "      <td>1757</td>\n",
       "      <td>57661.2736</td>\n",
       "      <td>150</td>\n",
       "      <td>150: KN GW170817</td>\n",
       "      <td>True</td>\n",
       "    </tr>\n",
       "    <tr>\n",
       "      <th>1</th>\n",
       "      <td>0.782480</td>\n",
       "      <td>0.268593</td>\n",
       "      <td>0.149629</td>\n",
       "      <td>0.466376</td>\n",
       "      <td>427.853790</td>\n",
       "      <td>1.060051</td>\n",
       "      <td>-0.059434</td>\n",
       "      <td>-0.106277</td>\n",
       "      <td>1.989556</td>\n",
       "      <td>788.683228</td>\n",
       "      <td>6415</td>\n",
       "      <td>57461.4561</td>\n",
       "      <td>141</td>\n",
       "      <td>141: 91BG</td>\n",
       "      <td>False</td>\n",
       "    </tr>\n",
       "    <tr>\n",
       "      <th>2</th>\n",
       "      <td>0.750644</td>\n",
       "      <td>0.087323</td>\n",
       "      <td>0.172727</td>\n",
       "      <td>0.937126</td>\n",
       "      <td>270.629425</td>\n",
       "      <td>0.876449</td>\n",
       "      <td>0.080352</td>\n",
       "      <td>0.104214</td>\n",
       "      <td>0.825639</td>\n",
       "      <td>401.693390</td>\n",
       "      <td>7707</td>\n",
       "      <td>57484.2005</td>\n",
       "      <td>103</td>\n",
       "      <td>103: Core collapse Type Ibc</td>\n",
       "      <td>False</td>\n",
       "    </tr>\n",
       "    <tr>\n",
       "      <th>3</th>\n",
       "      <td>0.000000</td>\n",
       "      <td>0.000000</td>\n",
       "      <td>0.000000</td>\n",
       "      <td>0.000000</td>\n",
       "      <td>0.000000</td>\n",
       "      <td>0.712076</td>\n",
       "      <td>0.151259</td>\n",
       "      <td>0.263020</td>\n",
       "      <td>1.071781</td>\n",
       "      <td>534.019775</td>\n",
       "      <td>8267</td>\n",
       "      <td>57671.3147</td>\n",
       "      <td>151</td>\n",
       "      <td>151: KN Karsen 2017</td>\n",
       "      <td>True</td>\n",
       "    </tr>\n",
       "    <tr>\n",
       "      <th>4</th>\n",
       "      <td>1.028029</td>\n",
       "      <td>-0.020704</td>\n",
       "      <td>0.038843</td>\n",
       "      <td>0.993747</td>\n",
       "      <td>263.286224</td>\n",
       "      <td>0.000000</td>\n",
       "      <td>0.000000</td>\n",
       "      <td>0.000000</td>\n",
       "      <td>0.000000</td>\n",
       "      <td>0.000000</td>\n",
       "      <td>12578</td>\n",
       "      <td>57517.4403</td>\n",
       "      <td>102</td>\n",
       "      <td>102: MOSFIT-Ibc</td>\n",
       "      <td>False</td>\n",
       "    </tr>\n",
       "    <tr>\n",
       "      <th>...</th>\n",
       "      <td>...</td>\n",
       "      <td>...</td>\n",
       "      <td>...</td>\n",
       "      <td>...</td>\n",
       "      <td>...</td>\n",
       "      <td>...</td>\n",
       "      <td>...</td>\n",
       "      <td>...</td>\n",
       "      <td>...</td>\n",
       "      <td>...</td>\n",
       "      <td>...</td>\n",
       "      <td>...</td>\n",
       "      <td>...</td>\n",
       "      <td>...</td>\n",
       "      <td>...</td>\n",
       "    </tr>\n",
       "    <tr>\n",
       "      <th>22275</th>\n",
       "      <td>1.088962</td>\n",
       "      <td>-0.014523</td>\n",
       "      <td>0.106654</td>\n",
       "      <td>1.693484</td>\n",
       "      <td>888.318420</td>\n",
       "      <td>1.205512</td>\n",
       "      <td>-0.059662</td>\n",
       "      <td>0.725981</td>\n",
       "      <td>1.578576</td>\n",
       "      <td>666.974243</td>\n",
       "      <td>137062467</td>\n",
       "      <td>57565.3666</td>\n",
       "      <td>112</td>\n",
       "      <td>112: Core collapse Type II</td>\n",
       "      <td>False</td>\n",
       "    </tr>\n",
       "    <tr>\n",
       "      <th>22276</th>\n",
       "      <td>0.978098</td>\n",
       "      <td>-0.118905</td>\n",
       "      <td>-0.022548</td>\n",
       "      <td>1.571079</td>\n",
       "      <td>1141.677979</td>\n",
       "      <td>1.038589</td>\n",
       "      <td>-0.084343</td>\n",
       "      <td>0.017370</td>\n",
       "      <td>1.344228</td>\n",
       "      <td>1213.934937</td>\n",
       "      <td>137071784</td>\n",
       "      <td>57690.5287</td>\n",
       "      <td>170</td>\n",
       "      <td>170: AGN</td>\n",
       "      <td>False</td>\n",
       "    </tr>\n",
       "    <tr>\n",
       "      <th>22277</th>\n",
       "      <td>1.038554</td>\n",
       "      <td>-0.092552</td>\n",
       "      <td>0.148199</td>\n",
       "      <td>1.327237</td>\n",
       "      <td>295.870941</td>\n",
       "      <td>0.990183</td>\n",
       "      <td>-0.038269</td>\n",
       "      <td>0.027255</td>\n",
       "      <td>0.717529</td>\n",
       "      <td>408.148193</td>\n",
       "      <td>137071978</td>\n",
       "      <td>57621.3001</td>\n",
       "      <td>143</td>\n",
       "      <td>143: Iax</td>\n",
       "      <td>False</td>\n",
       "    </tr>\n",
       "    <tr>\n",
       "      <th>22278</th>\n",
       "      <td>0.622255</td>\n",
       "      <td>-0.028716</td>\n",
       "      <td>0.439814</td>\n",
       "      <td>1.676503</td>\n",
       "      <td>525.301697</td>\n",
       "      <td>0.000000</td>\n",
       "      <td>0.000000</td>\n",
       "      <td>0.000000</td>\n",
       "      <td>0.000000</td>\n",
       "      <td>0.000000</td>\n",
       "      <td>137079473</td>\n",
       "      <td>57493.3158</td>\n",
       "      <td>151</td>\n",
       "      <td>151: KN Karsen 2017</td>\n",
       "      <td>True</td>\n",
       "    </tr>\n",
       "    <tr>\n",
       "      <th>22279</th>\n",
       "      <td>1.099278</td>\n",
       "      <td>0.020476</td>\n",
       "      <td>0.077446</td>\n",
       "      <td>1.450732</td>\n",
       "      <td>820.817871</td>\n",
       "      <td>1.106727</td>\n",
       "      <td>-0.081399</td>\n",
       "      <td>0.060491</td>\n",
       "      <td>1.329373</td>\n",
       "      <td>1246.376709</td>\n",
       "      <td>137083799</td>\n",
       "      <td>57697.4582</td>\n",
       "      <td>103</td>\n",
       "      <td>103: Core collapse Type Ibc</td>\n",
       "      <td>False</td>\n",
       "    </tr>\n",
       "  </tbody>\n",
       "</table>\n",
       "<p>22280 rows × 15 columns</p>\n",
       "</div>"
      ],
      "text/plain": [
       "       coeff1_g  coeff2_g  coeff3_g  residuo_g    maxflux_g  coeff1_r  \\\n",
       "0      0.632028  0.008088  0.366976   0.958710   230.670456  0.727304   \n",
       "1      0.782480  0.268593  0.149629   0.466376   427.853790  1.060051   \n",
       "2      0.750644  0.087323  0.172727   0.937126   270.629425  0.876449   \n",
       "3      0.000000  0.000000  0.000000   0.000000     0.000000  0.712076   \n",
       "4      1.028029 -0.020704  0.038843   0.993747   263.286224  0.000000   \n",
       "...         ...       ...       ...        ...          ...       ...   \n",
       "22275  1.088962 -0.014523  0.106654   1.693484   888.318420  1.205512   \n",
       "22276  0.978098 -0.118905 -0.022548   1.571079  1141.677979  1.038589   \n",
       "22277  1.038554 -0.092552  0.148199   1.327237   295.870941  0.990183   \n",
       "22278  0.622255 -0.028716  0.439814   1.676503   525.301697  0.000000   \n",
       "22279  1.099278  0.020476  0.077446   1.450732   820.817871  1.106727   \n",
       "\n",
       "       coeff2_r  coeff3_r  residuo_r    maxflux_r        key  current_dates  \\\n",
       "0     -0.098875  0.355660   1.610522   373.748047       1757     57661.2736   \n",
       "1     -0.059434 -0.106277   1.989556   788.683228       6415     57461.4561   \n",
       "2      0.080352  0.104214   0.825639   401.693390       7707     57484.2005   \n",
       "3      0.151259  0.263020   1.071781   534.019775       8267     57671.3147   \n",
       "4      0.000000  0.000000   0.000000     0.000000      12578     57517.4403   \n",
       "...         ...       ...        ...          ...        ...            ...   \n",
       "22275 -0.059662  0.725981   1.578576   666.974243  137062467     57565.3666   \n",
       "22276 -0.084343  0.017370   1.344228  1213.934937  137071784     57690.5287   \n",
       "22277 -0.038269  0.027255   0.717529   408.148193  137071978     57621.3001   \n",
       "22278  0.000000  0.000000   0.000000     0.000000  137079473     57493.3158   \n",
       "22279 -0.081399  0.060491   1.329373  1246.376709  137083799     57697.4582   \n",
       "\n",
       "       type                   type_names  y_true  \n",
       "0       150             150: KN GW170817    True  \n",
       "1       141                    141: 91BG   False  \n",
       "2       103  103: Core collapse Type Ibc   False  \n",
       "3       151          151: KN Karsen 2017    True  \n",
       "4       102              102: MOSFIT-Ibc   False  \n",
       "...     ...                          ...     ...  \n",
       "22275   112   112: Core collapse Type II   False  \n",
       "22276   170                     170: AGN   False  \n",
       "22277   143                     143: Iax   False  \n",
       "22278   151          151: KN Karsen 2017    True  \n",
       "22279   103  103: Core collapse Type Ibc   False  \n",
       "\n",
       "[22280 rows x 15 columns]"
      ]
     },
     "execution_count": 8,
     "metadata": {},
     "output_type": "execute_result"
    }
   ],
   "source": [
    "train_features_df"
   ]
  },
  {
   "cell_type": "code",
   "execution_count": null,
   "id": "ce66bad3-0bc2-47ae-a02d-3dcab806af45",
   "metadata": {},
   "outputs": [],
   "source": []
  },
  {
   "cell_type": "markdown",
   "id": "7d3309aa-93a0-480b-9101-c0de061abd48",
   "metadata": {},
   "source": [
    "# Now Train the classifier"
   ]
  },
  {
   "cell_type": "code",
   "execution_count": 9,
   "id": "6042b0a3-d721-4e12-8884-32ad7c6fb9cb",
   "metadata": {},
   "outputs": [],
   "source": [
    "from kndetect.training import train_classifier"
   ]
  },
  {
   "cell_type": "code",
   "execution_count": 10,
   "id": "1e64397b-462a-48e7-9b36-64fc79221827",
   "metadata": {},
   "outputs": [
    {
     "name": "stderr",
     "output_type": "stream",
     "text": [
      "/pbs/throng/lsst/users/bbiswas/miniconda3/envs/kndetect/lib/python3.7/site-packages/sklearn/base.py:444: UserWarning: X has feature names, but RandomForestClassifier was fitted without feature names\n",
      "  f\"X has feature names, but {self.__class__.__name__} was fitted without\"\n",
      "/pbs/throng/lsst/users/bbiswas/miniconda3/envs/kndetect/lib/python3.7/site-packages/sklearn/base.py:444: UserWarning: X has feature names, but RandomForestClassifier was fitted without feature names\n",
      "  f\"X has feature names, but {self.__class__.__name__} was fitted without\"\n"
     ]
    }
   ],
   "source": [
    "if not use_already_trained_models:\n",
    "    clf, features_df = train_classifier(train_features_df)\n",
    "    if save_data:\n",
    "        with open(os.path.join(data_dir, \"models\", sub_directory + \".pkl\"), 'wb') as files:\n",
    "            pickle.dump(clf, files)\n",
    "else:\n",
    "    from kndetect.predict import load_classifier\n",
    "    clf = load_classifier(sub_directory + \".pkl\")"
   ]
  },
  {
   "cell_type": "code",
   "execution_count": null,
   "id": "8499f9b2-73b5-4399-bd09-5d8ceff9af12",
   "metadata": {},
   "outputs": [],
   "source": []
  },
  {
   "cell_type": "code",
   "execution_count": 11,
   "id": "dbf55df0-f115-4872-a630-8ed01f429cbf",
   "metadata": {},
   "outputs": [],
   "source": [
    "# Generate Test features and Predict probabilities"
   ]
  },
  {
   "cell_type": "code",
   "execution_count": 12,
   "id": "6e7498fa-895f-481f-bf01-9c45f2d068dd",
   "metadata": {},
   "outputs": [],
   "source": [
    "df_header_test = Table.read(test_data_head_path, format='fits').to_pandas()\n",
    "df_phot_test = Table.read(test_data_phot_path, format='fits').to_pandas()"
   ]
  },
  {
   "cell_type": "code",
   "execution_count": 13,
   "id": "d992ed86-720d-4b59-bee7-7a22848b6422",
   "metadata": {},
   "outputs": [
    {
     "name": "stderr",
     "output_type": "stream",
     "text": [
      "100%|██████████| 21288/21288 [06:32<00:00, 54.23it/s]\n"
     ]
    }
   ],
   "source": [
    "if use_already_trained_features:\n",
    "    test_features_df = pd.read_csv(os.path.join(data_dir, sub_directory, \"test_features.csv\"),index_col=0)\n",
    "\n",
    "else:\n",
    "    test_features_df = extract_features_all_lightcurves(df_phot_test, \n",
    "                                                         \"SNID\", \n",
    "                                                         pcs, \n",
    "                                                         [b'g', b'r'],\n",
    "                                                         mimic_alerts=mimic_alerts)\n",
    "    test_features_df = append_y_true_col(features_df=test_features_df,\n",
    "                                          prediction_type_nos=[149, 150, 151],\n",
    "                                          meta_df = df_header_test, \n",
    "                                          meta_key_col_name = \"SNID\",\n",
    "                                          meta_type_col_name = \"SNTYPE\")"
   ]
  },
  {
   "cell_type": "code",
   "execution_count": 14,
   "id": "d01d57d6-328f-4428-b8e1-187ce30acb74",
   "metadata": {},
   "outputs": [],
   "source": [
    "from kndetect.predict import load_classifier, predict_kn_score"
   ]
  },
  {
   "cell_type": "code",
   "execution_count": 15,
   "id": "f23773e9-530a-4228-bdb2-1e0672bc8acf",
   "metadata": {},
   "outputs": [],
   "source": [
    "probabilities, filtered_indices = predict_kn_score(clf, test_features_df)"
   ]
  },
  {
   "cell_type": "code",
   "execution_count": 16,
   "id": "b015ad45-1ecf-4815-8f8e-d83f281f3b0a",
   "metadata": {},
   "outputs": [],
   "source": [
    "test_features_df['y_pred_score'] = probabilities.T[1]"
   ]
  },
  {
   "cell_type": "code",
   "execution_count": 26,
   "id": "37d40d0e-f9b3-4011-861f-b414401f1238",
   "metadata": {},
   "outputs": [],
   "source": [
    "filtered=test_features_df[filtered_indices]"
   ]
  },
  {
   "cell_type": "code",
   "execution_count": 40,
   "id": "531d103d-6664-4985-ac93-684c3c73947d",
   "metadata": {},
   "outputs": [],
   "source": [
    "y_true = filtered[\"y_true\"] == 1\n",
    "y_pred = filtered[\"y_pred_score\"]>0.5"
   ]
  },
  {
   "cell_type": "code",
   "execution_count": 43,
   "id": "15b02fd4-6cea-4143-8a11-65c32326a902",
   "metadata": {},
   "outputs": [
    {
     "name": "stdout",
     "output_type": "stream",
     "text": [
      "True Positive : 750\n",
      "False Positive : 370\n",
      "True negative : 13484\n",
      "False negative : 372\n"
     ]
    }
   ],
   "source": [
    "print(\"True Positive : {tp}\".format(tp = np.sum(y_true&y_pred)))\n",
    "print(\"False Positive : {fp}\".format(fp = np.sum(~y_true&y_pred)))\n",
    "print(\"True negative : {tn}\".format(tn = np.sum(~y_true&~y_pred)))\n",
    "print(\"False negative : {fn}\".format(fn = np.sum(y_true&~y_pred)))"
   ]
  },
  {
   "cell_type": "code",
   "execution_count": 44,
   "id": "fa41d7b2-c45d-42e3-aa21-791f897f9f00",
   "metadata": {},
   "outputs": [],
   "source": [
    "if save_data:\n",
    "    train_features_df.to_csv(os.path.join(data_dir, sub_directory, \"train_features.csv\"))\n",
    "    test_features_df.to_csv(os.path.join(data_dir, sub_directory, \"test_features.csv\"))"
   ]
  },
  {
   "cell_type": "code",
   "execution_count": null,
   "id": "f0ef6689-47da-4bee-a011-c938456267e4",
   "metadata": {},
   "outputs": [],
   "source": []
  }
 ],
 "metadata": {
  "kernelspec": {
   "display_name": "kndetect",
   "language": "python",
   "name": "kndetect"
  },
  "language_info": {
   "codemirror_mode": {
    "name": "ipython",
    "version": 3
   },
   "file_extension": ".py",
   "mimetype": "text/x-python",
   "name": "python",
   "nbconvert_exporter": "python",
   "pygments_lexer": "ipython3",
   "version": "3.7.13"
  }
 },
 "nbformat": 4,
 "nbformat_minor": 5
}
