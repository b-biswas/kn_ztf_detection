{
 "cells": [
  {
   "cell_type": "code",
   "execution_count": null,
   "id": "fb32441c-9cf0-4ec9-93f3-bb4c893f6c3c",
   "metadata": {},
   "outputs": [],
   "source": [
    "import os \n",
    "import numpy as np\n",
    "import pandas as pd\n",
    "import pickle \n",
    "from astropy.table import Table"
   ]
  },
  {
   "cell_type": "code",
   "execution_count": null,
   "id": "3106282b-63ab-48d8-8ca1-0ffb74b08ccb",
   "metadata": {},
   "outputs": [],
   "source": [
    "import sklearn\n",
    "print(sklearn.__version__)"
   ]
  },
  {
   "cell_type": "code",
   "execution_count": null,
   "id": "f6938269-4eb6-410a-bbdc-16f121c4c45b",
   "metadata": {},
   "outputs": [],
   "source": [
    "train_data_head_path = '/sps/lsst/users/bbiswas/data/kilonova_datasets/train_final_master_HEAD.FITS'\n",
    "train_data_phot_path = '/sps/lsst/users/bbiswas/data/kilonova_datasets/train_final_master_PHOT.FITS'\n",
    "test_data_head_path = '/sps/lsst/users/bbiswas/data/kilonova_datasets/test_final_master_HEAD.FITS'\n",
    "test_data_phot_path = '/sps/lsst/users/bbiswas/data/kilonova_datasets/test_final_master_PHOT.FITS'"
   ]
  },
  {
   "cell_type": "code",
   "execution_count": null,
   "id": "029656f1-e929-4749-9ee9-47266c70bef4",
   "metadata": {},
   "outputs": [],
   "source": [
    "df_header = Table.read(train_data_head_path, format='fits').to_pandas()\n",
    "df_phot = Table.read(train_data_phot_path, format='fits').to_pandas()"
   ]
  },
  {
   "cell_type": "code",
   "execution_count": null,
   "id": "42eb80fa-b707-4322-a542-5faf20691c2c",
   "metadata": {},
   "outputs": [],
   "source": [
    "from kndetect.utils import load_pcs, get_event_type, get_data_dir_path\n",
    "from kndetect.features import extract_features_all_lightcurves\n",
    "from kndetect.training import append_y_true_col"
   ]
  },
  {
   "cell_type": "code",
   "execution_count": null,
   "id": "af72cf71-5e02-4ddf-a865-86a3f430bd20",
   "metadata": {},
   "outputs": [],
   "source": [
    "pcs = load_pcs()\n",
    "data_dir = get_data_dir_path()"
   ]
  },
  {
   "cell_type": "code",
   "execution_count": null,
   "id": "eb61a952-d3de-4dab-b023-a2b71ade3ea4",
   "metadata": {},
   "outputs": [],
   "source": [
    "use_already_trained_features = True\n",
    "use_already_trained_models = False\n",
    "mimic_alerts = False\n",
    "save_data = True\n",
    "\n",
    "if mimic_alerts:\n",
    "    sub_directory = \"partial\"\n",
    "else: \n",
    "    sub_directory = \"complete\""
   ]
  },
  {
   "cell_type": "code",
   "execution_count": null,
   "id": "cafe266c-8727-4789-a83c-10b63489012e",
   "metadata": {},
   "outputs": [],
   "source": [
    "if use_already_trained_features:\n",
    "    train_features_df = pd.read_csv(os.path.join(data_dir, sub_directory, \"train_features.csv\"),index_col=0)\n",
    "\n",
    "else:\n",
    "    train_features_df = extract_features_all_lightcurves(df_phot, \n",
    "                                                         \"SNID\", \n",
    "                                                         pcs, \n",
    "                                                         [b'g', b'r'],\n",
    "                                                         mimic_alerts=mimic_alerts)\n",
    "    train_features_df = append_y_true_col(features_df=train_features_df,\n",
    "                                          prediction_type_nos=[149, 150, 151],\n",
    "                                          meta_df = df_header, \n",
    "                                          meta_key_col_name = \"SNID\",\n",
    "                                          meta_type_col_name = \"SNTYPE\")"
   ]
  },
  {
   "cell_type": "code",
   "execution_count": null,
   "id": "5eda8da4-12c0-477f-843c-a7e48840516e",
   "metadata": {},
   "outputs": [],
   "source": [
    "train_features_df"
   ]
  },
  {
   "cell_type": "code",
   "execution_count": null,
   "id": "ce66bad3-0bc2-47ae-a02d-3dcab806af45",
   "metadata": {},
   "outputs": [],
   "source": []
  },
  {
   "cell_type": "markdown",
   "id": "7d3309aa-93a0-480b-9101-c0de061abd48",
   "metadata": {},
   "source": [
    "# Now Train the classifier"
   ]
  },
  {
   "cell_type": "code",
   "execution_count": null,
   "id": "6042b0a3-d721-4e12-8884-32ad7c6fb9cb",
   "metadata": {},
   "outputs": [],
   "source": [
    "from kndetect.training import train_classifier"
   ]
  },
  {
   "cell_type": "code",
   "execution_count": null,
   "id": "1e64397b-462a-48e7-9b36-64fc79221827",
   "metadata": {},
   "outputs": [],
   "source": [
    "if not use_already_trained_models:\n",
    "    clf, features_df = train_classifier(train_features_df)\n",
    "    if save_data:\n",
    "        with open(os.path.join(data_dir, \"models\", sub_directory + \".pkl\"), 'wb') as files:\n",
    "            pickle.dump(clf, files)\n",
    "else:\n",
    "    from kndetect.predict import load_classifier\n",
    "    clf = load_classifier(sub_directory + \".pkl\")"
   ]
  },
  {
   "cell_type": "code",
   "execution_count": null,
   "id": "8499f9b2-73b5-4399-bd09-5d8ceff9af12",
   "metadata": {},
   "outputs": [],
   "source": []
  },
  {
   "cell_type": "code",
   "execution_count": null,
   "id": "dbf55df0-f115-4872-a630-8ed01f429cbf",
   "metadata": {},
   "outputs": [],
   "source": [
    "# Generate Test features and Predict probabilities"
   ]
  },
  {
   "cell_type": "code",
   "execution_count": null,
   "id": "6e7498fa-895f-481f-bf01-9c45f2d068dd",
   "metadata": {},
   "outputs": [],
   "source": [
    "df_header_test = Table.read(test_data_head_path, format='fits').to_pandas()\n",
    "df_phot_test = Table.read(test_data_phot_path, format='fits').to_pandas()"
   ]
  },
  {
   "cell_type": "code",
   "execution_count": null,
   "id": "d992ed86-720d-4b59-bee7-7a22848b6422",
   "metadata": {},
   "outputs": [],
   "source": [
    "if use_already_trained_features:\n",
    "    test_features_df = pd.read_csv(os.path.join(data_dir, sub_directory, \"test_features.csv\"),index_col=0)\n",
    "\n",
    "else:\n",
    "    test_features_df = extract_features_all_lightcurves(df_phot_test, \n",
    "                                                         \"SNID\", \n",
    "                                                         pcs, \n",
    "                                                         [b'g', b'r'],\n",
    "                                                         mimic_alerts=mimic_alerts)\n",
    "    test_features_df = append_y_true_col(features_df=test_features_df,\n",
    "                                          prediction_type_nos=[149, 150, 151],\n",
    "                                          meta_df = df_header_test, \n",
    "                                          meta_key_col_name = \"SNID\",\n",
    "                                          meta_type_col_name = \"SNTYPE\")"
   ]
  },
  {
   "cell_type": "code",
   "execution_count": null,
   "id": "d01d57d6-328f-4428-b8e1-187ce30acb74",
   "metadata": {},
   "outputs": [],
   "source": [
    "from kndetect.predict import load_classifier, predict_kn_score"
   ]
  },
  {
   "cell_type": "code",
   "execution_count": null,
   "id": "f23773e9-530a-4228-bdb2-1e0672bc8acf",
   "metadata": {},
   "outputs": [],
   "source": [
    "probabilities, filtered_indices = predict_kn_score(clf, test_features_df)"
   ]
  },
  {
   "cell_type": "code",
   "execution_count": null,
   "id": "b015ad45-1ecf-4815-8f8e-d83f281f3b0a",
   "metadata": {},
   "outputs": [],
   "source": [
    "test_features_df['y_pred_score'] = probabilities.T[1]"
   ]
  },
  {
   "cell_type": "code",
   "execution_count": null,
   "id": "531d103d-6664-4985-ac93-684c3c73947d",
   "metadata": {},
   "outputs": [],
   "source": [
    "filtered=test_features_df[filtered_indices]"
   ]
  },
  {
   "cell_type": "code",
   "execution_count": null,
   "id": "c6d52d71-b55a-4fc9-839c-04bc4d901853",
   "metadata": {},
   "outputs": [],
   "source": [
    "y_true_train = features_df[\"y_true\"]\n",
    "y_pred_train = features_df[\"y_pred\"]\n",
    "\n",
    "print(\"train statistics:\")\n",
    "print(\"\\ntotal number of events: \" + str(len(y_true_train)))\n",
    "print(\"total number of KN: \" + str(np.sum(y_true_train)))\n",
    "print(\"total number of non KN: \" + str(np.sum(~y_true_train))) \n",
    "\n",
    "print(\"\\nTrue Positive : {tp}\".format(tp = np.sum(y_true_train&y_pred_train)))\n",
    "print(\"False Positive : {fp}\".format(fp = np.sum(~y_true_train&y_pred_train)))\n",
    "print(\"True negative : {tn}\".format(tn = np.sum(~y_true_train&~y_pred_train)))\n",
    "print(\"False negative : {fn}\".format(fn = np.sum(y_true_train&~y_pred_train)))"
   ]
  },
  {
   "cell_type": "code",
   "execution_count": null,
   "id": "759d95ce-37c9-4ab2-b86c-826c43c7c5e5",
   "metadata": {},
   "outputs": [],
   "source": [
    "y_true = filtered[\"y_true\"] == 1\n",
    "y_pred = filtered[\"y_pred_score\"]>0.5"
   ]
  },
  {
   "cell_type": "code",
   "execution_count": null,
   "id": "0af46556-80e7-4a60-81e5-0cabf8828ca4",
   "metadata": {},
   "outputs": [],
   "source": [
    "print(\"test statistics:\")\n",
    "print(\"\\ntotal number of events: \" + str(len(y_true)))\n",
    "print(\"total number of KN: \" + str(np.sum(y_true)))\n",
    "print(\"total number of non KN: \" + str(np.sum(~y_true))) \n",
    "\n",
    "print(\"\\nTrue Positive : {tp}\".format(tp = np.sum(y_true&y_pred)))\n",
    "print(\"False Positive : {fp}\".format(fp = np.sum(~y_true&y_pred)))\n",
    "print(\"True negative : {tn}\".format(tn = np.sum(~y_true&~y_pred)))\n",
    "print(\"False negative : {fn}\".format(fn = np.sum(y_true&~y_pred)))"
   ]
  },
  {
   "cell_type": "code",
   "execution_count": null,
   "id": "919912eb-0c2d-45e4-b877-700e09358301",
   "metadata": {},
   "outputs": [],
   "source": [
    "from kndetect.plot_lightcurve import plot_confusion_matrix"
   ]
  },
  {
   "cell_type": "code",
   "execution_count": null,
   "id": "5109eb31-72b6-454f-b041-36fe30f70cd8",
   "metadata": {},
   "outputs": [],
   "source": [
    "import matplotlib.pyplot as plt\n",
    "fig = plt.figure(figsize=(5,5))\n",
    "ax = plt.gca()\n",
    "plot_confusion_matrix(ax, y_true, y_pred)"
   ]
  },
  {
   "cell_type": "code",
   "execution_count": null,
   "id": "fa41d7b2-c45d-42e3-aa21-791f897f9f00",
   "metadata": {},
   "outputs": [],
   "source": [
    "if save_data:\n",
    "    train_features_df.to_csv(os.path.join(data_dir, sub_directory, \"train_features.csv\"))\n",
    "    test_features_df.to_csv(os.path.join(data_dir, sub_directory, \"test_features.csv\"))"
   ]
  },
  {
   "cell_type": "code",
   "execution_count": null,
   "id": "9807420a-83c1-4471-bd1d-3e3c2be0332f",
   "metadata": {},
   "outputs": [],
   "source": [
    "from kndetect.plot_lightcurve import plot_contamination_statistics"
   ]
  },
  {
   "cell_type": "code",
   "execution_count": null,
   "id": "f0ef6689-47da-4bee-a011-c938456267e4",
   "metadata": {},
   "outputs": [],
   "source": [
    "import matplotlib.pyplot as plt\n",
    "fig = plt.figure(figsize=(8,12))\n",
    "ax = plt.gca()\n",
    "plot_contamination_statistics(ax, filtered, [149,150,151])"
   ]
  },
  {
   "cell_type": "code",
   "execution_count": null,
   "id": "d2c15700-d985-458d-aca3-752d18d4ce12",
   "metadata": {},
   "outputs": [],
   "source": []
  }
 ],
 "metadata": {
  "kernelspec": {
   "display_name": "kndetect",
   "language": "python",
   "name": "kndetect"
  },
  "language_info": {
   "codemirror_mode": {
    "name": "ipython",
    "version": 3
   },
   "file_extension": ".py",
   "mimetype": "text/x-python",
   "name": "python",
   "nbconvert_exporter": "python",
   "pygments_lexer": "ipython3",
   "version": "3.7.13"
  }
 },
 "nbformat": 4,
 "nbformat_minor": 5
}
