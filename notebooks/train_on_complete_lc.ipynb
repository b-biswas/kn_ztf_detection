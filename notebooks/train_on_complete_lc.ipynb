{
 "cells": [
  {
   "cell_type": "code",
   "execution_count": 1,
   "id": "fb32441c-9cf0-4ec9-93f3-bb4c893f6c3c",
   "metadata": {},
   "outputs": [],
   "source": [
    "import os \n",
    "import numpy as np\n",
    "import pandas as pd\n",
    "import pickle \n",
    "from astropy.table import Table"
   ]
  },
  {
   "cell_type": "code",
   "execution_count": 2,
   "id": "3106282b-63ab-48d8-8ca1-0ffb74b08ccb",
   "metadata": {},
   "outputs": [
    {
     "name": "stdout",
     "output_type": "stream",
     "text": [
      "0.23.0\n"
     ]
    }
   ],
   "source": [
    "import sklearn\n",
    "print(sklearn.__version__)"
   ]
  },
  {
   "cell_type": "code",
   "execution_count": 3,
   "id": "f6938269-4eb6-410a-bbdc-16f121c4c45b",
   "metadata": {},
   "outputs": [],
   "source": [
    "train_data_head_path = '/sps/lsst/users/bbiswas/data/kilonova_datasets/train_final_master_HEAD.FITS'\n",
    "train_data_phot_path = '/sps/lsst/users/bbiswas/data/kilonova_datasets/train_final_master_PHOT.FITS'\n",
    "test_data_head_path = '/sps/lsst/users/bbiswas/data/kilonova_datasets/test_final_master_HEAD.FITS'\n",
    "test_data_phot_path = '/sps/lsst/users/bbiswas/data/kilonova_datasets/test_final_master_PHOT.FITS'"
   ]
  },
  {
   "cell_type": "code",
   "execution_count": 4,
   "id": "029656f1-e929-4749-9ee9-47266c70bef4",
   "metadata": {},
   "outputs": [],
   "source": [
    "df_header = Table.read(train_data_head_path, format='fits').to_pandas()\n",
    "df_phot = Table.read(train_data_phot_path, format='fits').to_pandas()"
   ]
  },
  {
   "cell_type": "code",
   "execution_count": 5,
   "id": "42eb80fa-b707-4322-a542-5faf20691c2c",
   "metadata": {},
   "outputs": [],
   "source": [
    "from kndetect.utils import load_pcs, get_event_type, get_data_dir_path\n",
    "from kndetect.features import extract_features_all_lightcurves\n",
    "from kndetect.training import append_y_true_col"
   ]
  },
  {
   "cell_type": "code",
   "execution_count": 6,
   "id": "af72cf71-5e02-4ddf-a865-86a3f430bd20",
   "metadata": {},
   "outputs": [],
   "source": [
    "pcs = load_pcs()\n",
    "data_dir = get_data_dir_path()"
   ]
  },
  {
   "cell_type": "code",
   "execution_count": 7,
   "id": "eb61a952-d3de-4dab-b023-a2b71ade3ea4",
   "metadata": {},
   "outputs": [],
   "source": [
    "use_already_trained_features = True\n",
    "use_already_trained_models = False\n",
    "mimic_alerts = False\n",
    "save_data = True\n",
    "\n",
    "if mimic_alerts:\n",
    "    sub_directory = \"partial\"\n",
    "else: \n",
    "    sub_directory = \"complete\""
   ]
  },
  {
   "cell_type": "code",
   "execution_count": 8,
   "id": "cafe266c-8727-4789-a83c-10b63489012e",
   "metadata": {},
   "outputs": [],
   "source": [
    "if use_already_trained_features:\n",
    "    train_features_df = pd.read_csv(os.path.join(data_dir, sub_directory, \"train_features.csv\"),index_col=0)\n",
    "\n",
    "else:\n",
    "    train_features_df = extract_features_all_lightcurves(df_phot, \n",
    "                                                         \"SNID\", \n",
    "                                                         pcs, \n",
    "                                                         [b'g', b'r'],\n",
    "                                                         mimic_alerts=mimic_alerts)\n",
    "    train_features_df = append_y_true_col(features_df=train_features_df,\n",
    "                                          prediction_type_nos=[149, 150, 151],\n",
    "                                          meta_df = df_header, \n",
    "                                          meta_key_col_name = \"SNID\",\n",
    "                                          meta_type_col_name = \"SNTYPE\")"
   ]
  },
  {
   "cell_type": "code",
   "execution_count": 9,
   "id": "5eda8da4-12c0-477f-843c-a7e48840516e",
   "metadata": {},
   "outputs": [
    {
     "data": {
      "text/html": [
       "<div>\n",
       "<style scoped>\n",
       "    .dataframe tbody tr th:only-of-type {\n",
       "        vertical-align: middle;\n",
       "    }\n",
       "\n",
       "    .dataframe tbody tr th {\n",
       "        vertical-align: top;\n",
       "    }\n",
       "\n",
       "    .dataframe thead th {\n",
       "        text-align: right;\n",
       "    }\n",
       "</style>\n",
       "<table border=\"1\" class=\"dataframe\">\n",
       "  <thead>\n",
       "    <tr style=\"text-align: right;\">\n",
       "      <th></th>\n",
       "      <th>coeff1_g</th>\n",
       "      <th>coeff2_g</th>\n",
       "      <th>coeff3_g</th>\n",
       "      <th>residuo_g</th>\n",
       "      <th>maxflux_g</th>\n",
       "      <th>coeff1_r</th>\n",
       "      <th>coeff2_r</th>\n",
       "      <th>coeff3_r</th>\n",
       "      <th>residuo_r</th>\n",
       "      <th>maxflux_r</th>\n",
       "      <th>key</th>\n",
       "      <th>type</th>\n",
       "      <th>type_names</th>\n",
       "      <th>y_true</th>\n",
       "      <th>y_pred</th>\n",
       "      <th>y_score</th>\n",
       "    </tr>\n",
       "  </thead>\n",
       "  <tbody>\n",
       "    <tr>\n",
       "      <th>0</th>\n",
       "      <td>0.290510</td>\n",
       "      <td>0.095632</td>\n",
       "      <td>0.074392</td>\n",
       "      <td>1.104283</td>\n",
       "      <td>230.670456</td>\n",
       "      <td>0.275086</td>\n",
       "      <td>0.113414</td>\n",
       "      <td>0.075967</td>\n",
       "      <td>1.964267</td>\n",
       "      <td>373.748047</td>\n",
       "      <td>1757</td>\n",
       "      <td>150</td>\n",
       "      <td>150: KN GW170817</td>\n",
       "      <td>True</td>\n",
       "      <td>True</td>\n",
       "      <td>0.829992</td>\n",
       "    </tr>\n",
       "    <tr>\n",
       "      <th>1</th>\n",
       "      <td>0.514803</td>\n",
       "      <td>0.116128</td>\n",
       "      <td>-0.073609</td>\n",
       "      <td>1.146572</td>\n",
       "      <td>427.853790</td>\n",
       "      <td>1.017285</td>\n",
       "      <td>-0.065936</td>\n",
       "      <td>-0.210053</td>\n",
       "      <td>1.474833</td>\n",
       "      <td>788.683228</td>\n",
       "      <td>6415</td>\n",
       "      <td>141</td>\n",
       "      <td>141: 91BG</td>\n",
       "      <td>False</td>\n",
       "      <td>False</td>\n",
       "      <td>0.000317</td>\n",
       "    </tr>\n",
       "    <tr>\n",
       "      <th>2</th>\n",
       "      <td>1.067839</td>\n",
       "      <td>-0.114932</td>\n",
       "      <td>0.315341</td>\n",
       "      <td>0.990398</td>\n",
       "      <td>270.629425</td>\n",
       "      <td>1.096944</td>\n",
       "      <td>-0.036559</td>\n",
       "      <td>0.173198</td>\n",
       "      <td>0.974568</td>\n",
       "      <td>518.246521</td>\n",
       "      <td>7707</td>\n",
       "      <td>103</td>\n",
       "      <td>103: Core collapse Type Ibc</td>\n",
       "      <td>False</td>\n",
       "      <td>False</td>\n",
       "      <td>0.000000</td>\n",
       "    </tr>\n",
       "    <tr>\n",
       "      <th>3</th>\n",
       "      <td>0.000000</td>\n",
       "      <td>0.000000</td>\n",
       "      <td>0.000000</td>\n",
       "      <td>0.000000</td>\n",
       "      <td>0.000000</td>\n",
       "      <td>0.446477</td>\n",
       "      <td>0.201898</td>\n",
       "      <td>0.022648</td>\n",
       "      <td>1.435075</td>\n",
       "      <td>534.019775</td>\n",
       "      <td>8267</td>\n",
       "      <td>151</td>\n",
       "      <td>151: KN Karsen 2017</td>\n",
       "      <td>True</td>\n",
       "      <td>True</td>\n",
       "      <td>0.869761</td>\n",
       "    </tr>\n",
       "    <tr>\n",
       "      <th>4</th>\n",
       "      <td>0.785228</td>\n",
       "      <td>0.026194</td>\n",
       "      <td>-0.227322</td>\n",
       "      <td>1.078376</td>\n",
       "      <td>263.286224</td>\n",
       "      <td>0.493918</td>\n",
       "      <td>-0.199459</td>\n",
       "      <td>-0.287732</td>\n",
       "      <td>0.937045</td>\n",
       "      <td>291.099426</td>\n",
       "      <td>12578</td>\n",
       "      <td>102</td>\n",
       "      <td>102: MOSFIT-Ibc</td>\n",
       "      <td>False</td>\n",
       "      <td>False</td>\n",
       "      <td>0.001626</td>\n",
       "    </tr>\n",
       "    <tr>\n",
       "      <th>...</th>\n",
       "      <td>...</td>\n",
       "      <td>...</td>\n",
       "      <td>...</td>\n",
       "      <td>...</td>\n",
       "      <td>...</td>\n",
       "      <td>...</td>\n",
       "      <td>...</td>\n",
       "      <td>...</td>\n",
       "      <td>...</td>\n",
       "      <td>...</td>\n",
       "      <td>...</td>\n",
       "      <td>...</td>\n",
       "      <td>...</td>\n",
       "      <td>...</td>\n",
       "      <td>...</td>\n",
       "      <td>...</td>\n",
       "    </tr>\n",
       "    <tr>\n",
       "      <th>22275</th>\n",
       "      <td>1.088962</td>\n",
       "      <td>-0.014523</td>\n",
       "      <td>0.106654</td>\n",
       "      <td>1.693484</td>\n",
       "      <td>888.318420</td>\n",
       "      <td>1.205512</td>\n",
       "      <td>-0.059662</td>\n",
       "      <td>0.725981</td>\n",
       "      <td>1.578576</td>\n",
       "      <td>666.974243</td>\n",
       "      <td>137062467</td>\n",
       "      <td>112</td>\n",
       "      <td>112: Core collapse Type II</td>\n",
       "      <td>False</td>\n",
       "      <td>False</td>\n",
       "      <td>0.000000</td>\n",
       "    </tr>\n",
       "    <tr>\n",
       "      <th>22276</th>\n",
       "      <td>0.978098</td>\n",
       "      <td>-0.118905</td>\n",
       "      <td>-0.022548</td>\n",
       "      <td>1.571079</td>\n",
       "      <td>1141.677979</td>\n",
       "      <td>1.038589</td>\n",
       "      <td>-0.084343</td>\n",
       "      <td>0.017370</td>\n",
       "      <td>1.344228</td>\n",
       "      <td>1213.934937</td>\n",
       "      <td>137071784</td>\n",
       "      <td>170</td>\n",
       "      <td>170: AGN</td>\n",
       "      <td>False</td>\n",
       "      <td>False</td>\n",
       "      <td>0.000000</td>\n",
       "    </tr>\n",
       "    <tr>\n",
       "      <th>22277</th>\n",
       "      <td>0.934356</td>\n",
       "      <td>-0.129008</td>\n",
       "      <td>-0.007231</td>\n",
       "      <td>1.264973</td>\n",
       "      <td>295.870941</td>\n",
       "      <td>0.944728</td>\n",
       "      <td>-0.036172</td>\n",
       "      <td>-0.020847</td>\n",
       "      <td>0.761197</td>\n",
       "      <td>408.148193</td>\n",
       "      <td>137071978</td>\n",
       "      <td>143</td>\n",
       "      <td>143: Iax</td>\n",
       "      <td>False</td>\n",
       "      <td>False</td>\n",
       "      <td>0.000248</td>\n",
       "    </tr>\n",
       "    <tr>\n",
       "      <th>22278</th>\n",
       "      <td>0.206614</td>\n",
       "      <td>0.121759</td>\n",
       "      <td>0.131741</td>\n",
       "      <td>2.082643</td>\n",
       "      <td>525.301697</td>\n",
       "      <td>0.306185</td>\n",
       "      <td>0.283979</td>\n",
       "      <td>-0.027413</td>\n",
       "      <td>1.448031</td>\n",
       "      <td>445.314880</td>\n",
       "      <td>137079473</td>\n",
       "      <td>151</td>\n",
       "      <td>151: KN Karsen 2017</td>\n",
       "      <td>True</td>\n",
       "      <td>True</td>\n",
       "      <td>0.753136</td>\n",
       "    </tr>\n",
       "    <tr>\n",
       "      <th>22279</th>\n",
       "      <td>1.097590</td>\n",
       "      <td>0.021920</td>\n",
       "      <td>0.076695</td>\n",
       "      <td>1.343823</td>\n",
       "      <td>820.817871</td>\n",
       "      <td>1.163706</td>\n",
       "      <td>-0.126654</td>\n",
       "      <td>0.085939</td>\n",
       "      <td>1.424941</td>\n",
       "      <td>1246.376709</td>\n",
       "      <td>137083799</td>\n",
       "      <td>103</td>\n",
       "      <td>103: Core collapse Type Ibc</td>\n",
       "      <td>False</td>\n",
       "      <td>False</td>\n",
       "      <td>0.000000</td>\n",
       "    </tr>\n",
       "  </tbody>\n",
       "</table>\n",
       "<p>22280 rows × 16 columns</p>\n",
       "</div>"
      ],
      "text/plain": [
       "       coeff1_g  coeff2_g  coeff3_g  residuo_g    maxflux_g  coeff1_r  \\\n",
       "0      0.290510  0.095632  0.074392   1.104283   230.670456  0.275086   \n",
       "1      0.514803  0.116128 -0.073609   1.146572   427.853790  1.017285   \n",
       "2      1.067839 -0.114932  0.315341   0.990398   270.629425  1.096944   \n",
       "3      0.000000  0.000000  0.000000   0.000000     0.000000  0.446477   \n",
       "4      0.785228  0.026194 -0.227322   1.078376   263.286224  0.493918   \n",
       "...         ...       ...       ...        ...          ...       ...   \n",
       "22275  1.088962 -0.014523  0.106654   1.693484   888.318420  1.205512   \n",
       "22276  0.978098 -0.118905 -0.022548   1.571079  1141.677979  1.038589   \n",
       "22277  0.934356 -0.129008 -0.007231   1.264973   295.870941  0.944728   \n",
       "22278  0.206614  0.121759  0.131741   2.082643   525.301697  0.306185   \n",
       "22279  1.097590  0.021920  0.076695   1.343823   820.817871  1.163706   \n",
       "\n",
       "       coeff2_r  coeff3_r  residuo_r    maxflux_r        key  type  \\\n",
       "0      0.113414  0.075967   1.964267   373.748047       1757   150   \n",
       "1     -0.065936 -0.210053   1.474833   788.683228       6415   141   \n",
       "2     -0.036559  0.173198   0.974568   518.246521       7707   103   \n",
       "3      0.201898  0.022648   1.435075   534.019775       8267   151   \n",
       "4     -0.199459 -0.287732   0.937045   291.099426      12578   102   \n",
       "...         ...       ...        ...          ...        ...   ...   \n",
       "22275 -0.059662  0.725981   1.578576   666.974243  137062467   112   \n",
       "22276 -0.084343  0.017370   1.344228  1213.934937  137071784   170   \n",
       "22277 -0.036172 -0.020847   0.761197   408.148193  137071978   143   \n",
       "22278  0.283979 -0.027413   1.448031   445.314880  137079473   151   \n",
       "22279 -0.126654  0.085939   1.424941  1246.376709  137083799   103   \n",
       "\n",
       "                        type_names  y_true  y_pred   y_score  \n",
       "0                 150: KN GW170817    True    True  0.829992  \n",
       "1                        141: 91BG   False   False  0.000317  \n",
       "2      103: Core collapse Type Ibc   False   False  0.000000  \n",
       "3              151: KN Karsen 2017    True    True  0.869761  \n",
       "4                  102: MOSFIT-Ibc   False   False  0.001626  \n",
       "...                            ...     ...     ...       ...  \n",
       "22275   112: Core collapse Type II   False   False  0.000000  \n",
       "22276                     170: AGN   False   False  0.000000  \n",
       "22277                     143: Iax   False   False  0.000248  \n",
       "22278          151: KN Karsen 2017    True    True  0.753136  \n",
       "22279  103: Core collapse Type Ibc   False   False  0.000000  \n",
       "\n",
       "[22280 rows x 16 columns]"
      ]
     },
     "execution_count": 9,
     "metadata": {},
     "output_type": "execute_result"
    }
   ],
   "source": [
    "train_features_df"
   ]
  },
  {
   "cell_type": "code",
   "execution_count": null,
   "id": "ce66bad3-0bc2-47ae-a02d-3dcab806af45",
   "metadata": {},
   "outputs": [],
   "source": []
  },
  {
   "cell_type": "markdown",
   "id": "7d3309aa-93a0-480b-9101-c0de061abd48",
   "metadata": {},
   "source": [
    "# Now Train the classifier"
   ]
  },
  {
   "cell_type": "code",
   "execution_count": 10,
   "id": "6042b0a3-d721-4e12-8884-32ad7c6fb9cb",
   "metadata": {},
   "outputs": [],
   "source": [
    "from kndetect.training import train_classifier"
   ]
  },
  {
   "cell_type": "code",
   "execution_count": 11,
   "id": "1e64397b-462a-48e7-9b36-64fc79221827",
   "metadata": {},
   "outputs": [],
   "source": [
    "if not use_already_trained_models:\n",
    "    clf, features_df = train_classifier(train_features_df)\n",
    "    if save_data:\n",
    "        with open(os.path.join(data_dir, \"models\", sub_directory + \".pkl\"), 'wb') as files:\n",
    "            pickle.dump(clf, files)\n",
    "else:\n",
    "    from kndetect.predict import load_classifier\n",
    "    clf = load_classifier(sub_directory + \".pkl\")"
   ]
  },
  {
   "cell_type": "code",
   "execution_count": null,
   "id": "8499f9b2-73b5-4399-bd09-5d8ceff9af12",
   "metadata": {},
   "outputs": [],
   "source": []
  },
  {
   "cell_type": "code",
   "execution_count": 12,
   "id": "dbf55df0-f115-4872-a630-8ed01f429cbf",
   "metadata": {},
   "outputs": [],
   "source": [
    "# Generate Test features and Predict probabilities"
   ]
  },
  {
   "cell_type": "code",
   "execution_count": 13,
   "id": "6e7498fa-895f-481f-bf01-9c45f2d068dd",
   "metadata": {},
   "outputs": [],
   "source": [
    "df_header_test = Table.read(test_data_head_path, format='fits').to_pandas()\n",
    "df_phot_test = Table.read(test_data_phot_path, format='fits').to_pandas()"
   ]
  },
  {
   "cell_type": "code",
   "execution_count": 14,
   "id": "d992ed86-720d-4b59-bee7-7a22848b6422",
   "metadata": {},
   "outputs": [],
   "source": [
    "if use_already_trained_features:\n",
    "    test_features_df = pd.read_csv(os.path.join(data_dir, sub_directory, \"test_features.csv\"),index_col=0)\n",
    "\n",
    "else:\n",
    "    test_features_df = extract_features_all_lightcurves(df_phot_test, \n",
    "                                                         \"SNID\", \n",
    "                                                         pcs, \n",
    "                                                         [b'g', b'r'],\n",
    "                                                         mimic_alerts=mimic_alerts)\n",
    "    test_features_df = append_y_true_col(features_df=test_features_df,\n",
    "                                          prediction_type_nos=[149, 150, 151],\n",
    "                                          meta_df = df_header_test, \n",
    "                                          meta_key_col_name = \"SNID\",\n",
    "                                          meta_type_col_name = \"SNTYPE\")"
   ]
  },
  {
   "cell_type": "code",
   "execution_count": 15,
   "id": "d01d57d6-328f-4428-b8e1-187ce30acb74",
   "metadata": {},
   "outputs": [],
   "source": [
    "from kndetect.predict import load_classifier, predict_kn_score"
   ]
  },
  {
   "cell_type": "code",
   "execution_count": 16,
   "id": "f23773e9-530a-4228-bdb2-1e0672bc8acf",
   "metadata": {},
   "outputs": [],
   "source": [
    "probabilities, filtered_indices = predict_kn_score(clf, test_features_df)"
   ]
  },
  {
   "cell_type": "code",
   "execution_count": 17,
   "id": "b015ad45-1ecf-4815-8f8e-d83f281f3b0a",
   "metadata": {},
   "outputs": [],
   "source": [
    "test_features_df['y_pred_score'] = probabilities.T[1]"
   ]
  },
  {
   "cell_type": "code",
   "execution_count": 18,
   "id": "531d103d-6664-4985-ac93-684c3c73947d",
   "metadata": {},
   "outputs": [],
   "source": [
    "filtered=test_features_df[filtered_indices]"
   ]
  },
  {
   "cell_type": "code",
   "execution_count": 19,
   "id": "759d95ce-37c9-4ab2-b86c-826c43c7c5e5",
   "metadata": {},
   "outputs": [],
   "source": [
    "y_true = filtered[\"y_true\"] == 1\n",
    "y_pred = filtered[\"y_pred_score\"]>0.5"
   ]
  },
  {
   "cell_type": "code",
   "execution_count": 20,
   "id": "0af46556-80e7-4a60-81e5-0cabf8828ca4",
   "metadata": {},
   "outputs": [
    {
     "name": "stdout",
     "output_type": "stream",
     "text": [
      "True Positive : 1630\n",
      "False Positive : 712\n",
      "True negative : 16111\n",
      "False negative : 262\n"
     ]
    }
   ],
   "source": [
    "print(\"True Positive : {tp}\".format(tp = np.sum(y_true&y_pred)))\n",
    "print(\"False Positive : {fp}\".format(fp = np.sum(~y_true&y_pred)))\n",
    "print(\"True negative : {tn}\".format(tn = np.sum(~y_true&~y_pred)))\n",
    "print(\"False negative : {fn}\".format(fn = np.sum(y_true&~y_pred)))"
   ]
  },
  {
   "cell_type": "code",
   "execution_count": 21,
   "id": "fa41d7b2-c45d-42e3-aa21-791f897f9f00",
   "metadata": {},
   "outputs": [],
   "source": [
    "if save_data:\n",
    "    train_features_df.to_csv(os.path.join(data_dir, sub_directory, \"train_features.csv\"))\n",
    "    test_features_df.to_csv(os.path.join(data_dir, sub_directory, \"test_features.csv\"))"
   ]
  },
  {
   "cell_type": "code",
   "execution_count": null,
   "id": "f0ef6689-47da-4bee-a011-c938456267e4",
   "metadata": {},
   "outputs": [],
   "source": []
  }
 ],
 "metadata": {
  "kernelspec": {
   "display_name": "kndetect",
   "language": "python",
   "name": "kndetect"
  },
  "language_info": {
   "codemirror_mode": {
    "name": "ipython",
    "version": 3
   },
   "file_extension": ".py",
   "mimetype": "text/x-python",
   "name": "python",
   "nbconvert_exporter": "python",
   "pygments_lexer": "ipython3",
   "version": "3.7.13"
  }
 },
 "nbformat": 4,
 "nbformat_minor": 5
}
