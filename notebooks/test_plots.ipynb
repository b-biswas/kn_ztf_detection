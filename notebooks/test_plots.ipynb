{
 "cells": [
  {
   "cell_type": "code",
   "execution_count": null,
   "id": "3535f6d9-e36e-4648-a047-b5e507795840",
   "metadata": {},
   "outputs": [],
   "source": [
    "from kndetect.plot_lightcurve import plot_light_curve\n",
    "import matplotlib.pyplot as plt"
   ]
  },
  {
   "cell_type": "code",
   "execution_count": null,
   "id": "3747b939-9c10-443b-8cd2-d4b8b3e9139a",
   "metadata": {},
   "outputs": [],
   "source": [
    "import os \n",
    "import numpy as np\n",
    "import pandas as pd\n",
    "import pickle \n",
    "from astropy.table import Table"
   ]
  },
  {
   "cell_type": "code",
   "execution_count": null,
   "id": "c8dae944-f894-4b29-8a4d-8731f336ed8b",
   "metadata": {},
   "outputs": [],
   "source": [
    "train_data_head_path = '/sps/lsst/users/bbiswas/data/kilonova_datasets/train_final_master_HEAD.FITS'\n",
    "train_data_phot_path = '/sps/lsst/users/bbiswas/data/kilonova_datasets/train_final_master_PHOT.FITS'\n",
    "test_data_head_path = '/sps/lsst/users/bbiswas/data/kilonova_datasets/test_final_master_HEAD.FITS'\n",
    "test_data_phot_path = '/sps/lsst/users/bbiswas/data/kilonova_datasets/test_final_master_PHOT.FITS'"
   ]
  },
  {
   "cell_type": "code",
   "execution_count": null,
   "id": "c3ab6253-96b2-4fd7-b8a3-9b5552a6f364",
   "metadata": {},
   "outputs": [],
   "source": [
    "from kndetect.utils import get_data_dir_path, load_pcs\n",
    "data_dir = get_data_dir_path()"
   ]
  },
  {
   "cell_type": "code",
   "execution_count": null,
   "id": "b8612f28-2e77-4549-a396-9ccd76493839",
   "metadata": {},
   "outputs": [],
   "source": [
    "df_header = Table.read(train_data_head_path, format='fits').to_pandas()\n",
    "df_phot = Table.read(train_data_phot_path, format='fits').to_pandas()"
   ]
  },
  {
   "cell_type": "code",
   "execution_count": null,
   "id": "47057dfe-bd9d-4c6f-926a-a74d9752859c",
   "metadata": {},
   "outputs": [],
   "source": [
    "df_header_test = Table.read(test_data_head_path, format='fits').to_pandas()\n",
    "df_phot_test = Table.read(test_data_phot_path, format='fits').to_pandas()"
   ]
  },
  {
   "cell_type": "code",
   "execution_count": null,
   "id": "072b43fa-1874-49cb-9ff2-a5cd77668638",
   "metadata": {},
   "outputs": [],
   "source": [
    "def get_band_coeff_dict(features):\n",
    "    band_coeff_dict = {}\n",
    "    for band in ['g', 'r']:\n",
    "        coeffs =[]\n",
    "        for pc_num in range(3):\n",
    "            coeffs.append(features[\"coeff\" + str(pc_num+1) + \"_\" + band])\n",
    "            \n",
    "        if band == 'g':\n",
    "            band_coeff_dict[b'g'] = coeffs\n",
    "        else:\n",
    "            band_coeff_dict[b'r'] = coeffs\n",
    "    return band_coeff_dict"
   ]
  },
  {
   "cell_type": "markdown",
   "id": "1ccd248a-d99c-4992-834c-9daa21d761e5",
   "metadata": {},
   "source": [
    "# Plots for partial light curve"
   ]
  },
  {
   "cell_type": "code",
   "execution_count": null,
   "id": "a1b8bbbf-dd52-4f07-91c4-4ad327c4424b",
   "metadata": {},
   "outputs": [],
   "source": [
    "sub_directory = \"partial\"\n",
    "flux_lim =200"
   ]
  },
  {
   "cell_type": "code",
   "execution_count": null,
   "id": "77078379-ef7c-4896-8a0c-246c01894a49",
   "metadata": {},
   "outputs": [],
   "source": [
    "partial_features_df = pd.read_csv(os.path.join(data_dir, sub_directory, \"train_features.csv\"),index_col=0)"
   ]
  },
  {
   "cell_type": "code",
   "execution_count": null,
   "id": "7a4f82ac-d139-4543-8921-808116dd590c",
   "metadata": {
    "tags": []
   },
   "outputs": [],
   "source": [
    "from kndetect.plot_lightcurve import plot_predicted_bands\n",
    "color_band_dict = {b'g': '#15284F', b'r': '#F5622E'}\n",
    "count = 0\n",
    "for _, object_features in partial_features_df.iterrows():\n",
    "    snid = object_features[\"key\"]\n",
    "\n",
    "    object_lc = df_phot[df_phot[\"SNID\"]==snid]\n",
    "\n",
    "    band_coeff_dict = get_band_coeff_dict(object_features)\n",
    "    plot_predicted_bands(lc=object_lc, all_band_coeff_dict=band_coeff_dict, features=object_features, color_band_dict=color_band_dict, flux_lim=flux_lim, pcs=load_pcs(), band_map={b'r': 'r',b'g':'g'}, duration=30)\n",
    "    plt.show()\n",
    "    plt.close()\n",
    "    count+=1\n",
    "    if count==20:\n",
    "        break"
   ]
  },
  {
   "cell_type": "code",
   "execution_count": null,
   "id": "538fde7e-2cbf-4054-8235-aadb8c492272",
   "metadata": {},
   "outputs": [],
   "source": [
    "\n",
    "snid = 3347880\n",
    "\n",
    "\n",
    "object_features = partial_features_df[partial_features_df[\"key\"]==snid].squeeze()\n",
    "\n",
    "object_lc = df_phot[df_phot[\"SNID\"]==snid]\n",
    "print(df_header[df_header[\"SNID\"]==snid])\n",
    "band_coeff_dict = get_band_coeff_dict(object_features)\n",
    "print(band_coeff_dict)\n",
    "plot_predicted_bands(lc=object_lc, all_band_coeff_dict=band_coeff_dict, features=object_features, color_band_dict=color_band_dict, flux_lim=flux_lim, pcs=load_pcs(), band_map={b'r': 'r',b'g':'g'}, duration=30)\n",
    "plt.show()\n",
    "plt.close()"
   ]
  },
  {
   "cell_type": "code",
   "execution_count": null,
   "id": "ecd26c2f-1adf-4a1f-8821-73c5ee359ae5",
   "metadata": {
    "tags": []
   },
   "outputs": [],
   "source": [
    "\n",
    "for object_id in df_header['SNID'].values:\n",
    "    lc = df_phot[df_phot['SNID'] == object_id]\n",
    "    plot_light_curve(lc=lc, color_band_dict=color_band_dict, bands=[b'g', b'r'], band_map={b'r': 'r',b'g':'g'}, markers={b'r': 'o',b'g':'s'})\n",
    "    plt.show()\n",
    "    break"
   ]
  },
  {
   "cell_type": "code",
   "execution_count": null,
   "id": "83602628-afb1-4a18-80f3-b7a47b767f1b",
   "metadata": {},
   "outputs": [],
   "source": []
  },
  {
   "cell_type": "code",
   "execution_count": null,
   "id": "aa5a2fbd-90cb-445c-9045-ecd89384a229",
   "metadata": {},
   "outputs": [],
   "source": [
    "sub_directory = \"complete\"\n",
    "flux_lim =200"
   ]
  },
  {
   "cell_type": "code",
   "execution_count": null,
   "id": "61d05e35-f8c4-4ade-aca2-8b902a39020c",
   "metadata": {},
   "outputs": [],
   "source": [
    "complete_features_df = pd.read_csv(os.path.join(data_dir, sub_directory, \"train_features.csv\"),index_col=0)"
   ]
  },
  {
   "cell_type": "code",
   "execution_count": null,
   "id": "a83f7133-8085-4452-a25c-70e3ad64a54b",
   "metadata": {},
   "outputs": [],
   "source": [
    "color_band_dict = {b'g': '#15284F', b'r': '#F5622E'}\n",
    "\n",
    "snid = 3347880\n",
    "object_features = complete_features_df[complete_features_df[\"key\"]==snid].squeeze()\n",
    "\n",
    "object_lc = df_phot[df_phot[\"SNID\"]==snid]\n",
    "print(df_header[df_header[\"SNID\"]==snid])\n",
    "band_coeff_dict = get_band_coeff_dict(object_features)\n",
    "print(band_coeff_dict)\n",
    "plot_predicted_bands(lc=object_lc, all_band_coeff_dict=band_coeff_dict, features=object_features, color_band_dict=color_band_dict, flux_lim=flux_lim, pcs=load_pcs(), band_map={b'r': 'r',b'g':'g'}, duration=30)\n",
    "plt.show()\n",
    "plt.close()"
   ]
  },
  {
   "cell_type": "code",
   "execution_count": null,
   "id": "ea387890-f241-4ebf-8e41-f43c498af9a5",
   "metadata": {},
   "outputs": [],
   "source": [
    "color_band_dict = {b'g': '#15284F', b'r': '#F5622E'}\n",
    "\n",
    "snid = 40508\n",
    "#print(object_features)\n",
    "\n",
    "object_features = complete_features_df[complete_features_df[\"key\"]==snid].squeeze()\n",
    "\n",
    "object_lc = df_phot[df_phot[\"SNID\"]==snid]\n",
    "print(df_header[df_header[\"SNID\"]==snid])\n",
    "band_coeff_dict = get_band_coeff_dict(object_features)\n",
    "print(band_coeff_dict)\n",
    "plot_predicted_bands(lc=object_lc, all_band_coeff_dict=band_coeff_dict, features=object_features, color_band_dict=color_band_dict, flux_lim=flux_lim, pcs=load_pcs(), band_map={b'r': 'r',b'g':'g'}, duration=30)\n",
    "plt.show()\n",
    "plt.close()\n"
   ]
  },
  {
   "cell_type": "code",
   "execution_count": null,
   "id": "15438c0f-9745-4011-a026-5b18c2f2861a",
   "metadata": {},
   "outputs": [],
   "source": [
    "complete_features_df"
   ]
  },
  {
   "cell_type": "code",
   "execution_count": null,
   "id": "655dfce2-d1eb-48e3-ada4-e1815a7db88b",
   "metadata": {},
   "outputs": [],
   "source": [
    "complete_features_df[complete_features_df[\"key\"]==snid]"
   ]
  },
  {
   "cell_type": "code",
   "execution_count": null,
   "id": "0aba1818-5387-4a83-a227-06883d42e2e7",
   "metadata": {},
   "outputs": [],
   "source": []
  }
 ],
 "metadata": {
  "kernelspec": {
   "display_name": "kndetect",
   "language": "python",
   "name": "kndetect"
  },
  "language_info": {
   "codemirror_mode": {
    "name": "ipython",
    "version": 3
   },
   "file_extension": ".py",
   "mimetype": "text/x-python",
   "name": "python",
   "nbconvert_exporter": "python",
   "pygments_lexer": "ipython3",
   "version": "3.8.0"
  }
 },
 "nbformat": 4,
 "nbformat_minor": 5
}
