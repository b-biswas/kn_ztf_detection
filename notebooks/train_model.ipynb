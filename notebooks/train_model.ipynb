{
 "cells": [
  {
   "cell_type": "code",
   "execution_count": 1,
   "id": "fb32441c-9cf0-4ec9-93f3-bb4c893f6c3c",
   "metadata": {},
   "outputs": [],
   "source": [
    "import os \n",
    "import numpy as np\n",
    "import pickle \n",
    "from astropy.table import Table"
   ]
  },
  {
   "cell_type": "code",
   "execution_count": 2,
   "id": "f6938269-4eb6-410a-bbdc-16f121c4c45b",
   "metadata": {},
   "outputs": [],
   "source": [
    "train_data_head_path = '/sps/lsst/users/bbiswas/data/kilonova_datasets/train_final_master_HEAD.FITS'\n",
    "train_data_phot_path = '/sps/lsst/users/bbiswas/data/kilonova_datasets/train_final_master_PHOT.FITS'\n",
    "test_data_head_path = '/sps/lsst/users/bbiswas/data/kilonova_datasets/test_final_master_HEAD.FITS'\n",
    "test_data_phot_path = '/sps/lsst/users/bbiswas/data/kilonova_datasets/test_final_master_PHOT.FITS'"
   ]
  },
  {
   "cell_type": "code",
   "execution_count": 3,
   "id": "029656f1-e929-4749-9ee9-47266c70bef4",
   "metadata": {},
   "outputs": [],
   "source": [
    "df_header = Table.read(train_data_head_path, format='fits').to_pandas()\n",
    "df_phot = Table.read(train_data_phot_path, format='fits').to_pandas()"
   ]
  },
  {
   "cell_type": "code",
   "execution_count": 4,
   "id": "42eb80fa-b707-4322-a542-5faf20691c2c",
   "metadata": {},
   "outputs": [],
   "source": [
    "from kndetect.utils import load_pcs, get_event_type, get_data_dir_path\n",
    "from kndetect.predict_features import extract_features_all_lightcurves\n",
    "from kndetect.training import append_y_true_col"
   ]
  },
  {
   "cell_type": "code",
   "execution_count": 5,
   "id": "af72cf71-5e02-4ddf-a865-86a3f430bd20",
   "metadata": {},
   "outputs": [],
   "source": [
    "pcs = load_pcs()"
   ]
  },
  {
   "cell_type": "code",
   "execution_count": null,
   "id": "eb61a952-d3de-4dab-b023-a2b71ade3ea4",
   "metadata": {},
   "outputs": [
    {
     "name": "stderr",
     "output_type": "stream",
     "text": [
      " 12%|█▏        | 2692/22280 [05:31<36:53,  8.85it/s]  "
     ]
    }
   ],
   "source": [
    "train_features_df = extract_features_all_lightcurves(df_phot, \n",
    "                                                     \"SNID\", \n",
    "                                                     pcs, \n",
    "                                                     [b'g', b'r'])"
   ]
  },
  {
   "cell_type": "code",
   "execution_count": null,
   "id": "cafe266c-8727-4789-a83c-10b63489012e",
   "metadata": {},
   "outputs": [],
   "source": [
    "train_features_df = append_y_true_col(features_df=train_features_df,\n",
    "                                      prediction_type_nos=[149, 150, 151],\n",
    "                                      meta_df = df_header, \n",
    "                                      meta_key_col_name = \"SNID\",\n",
    "                                      meta_type_col_name = \"SNTYPE\")"
   ]
  },
  {
   "cell_type": "markdown",
   "id": "7d3309aa-93a0-480b-9101-c0de061abd48",
   "metadata": {},
   "source": [
    "# Now Train the classifier"
   ]
  },
  {
   "cell_type": "code",
   "execution_count": null,
   "id": "6042b0a3-d721-4e12-8884-32ad7c6fb9cb",
   "metadata": {},
   "outputs": [],
   "source": [
    "from kndetect.training import train_classifier"
   ]
  },
  {
   "cell_type": "code",
   "execution_count": null,
   "id": "1e64397b-462a-48e7-9b36-64fc79221827",
   "metadata": {},
   "outputs": [],
   "source": [
    "clf, features_df = train_classifier(train_features_df)"
   ]
  },
  {
   "cell_type": "code",
   "execution_count": null,
   "id": "8499f9b2-73b5-4399-bd09-5d8ceff9af12",
   "metadata": {},
   "outputs": [],
   "source": [
    "data_dir = get_data_dir_path()\n",
    "with open(os.path.join(data_dir, 'complete.pkl'), 'wb') as files:\n",
    "    pickle.dump(clf, files)"
   ]
  },
  {
   "cell_type": "code",
   "execution_count": null,
   "id": "dbf55df0-f115-4872-a630-8ed01f429cbf",
   "metadata": {},
   "outputs": [],
   "source": [
    "# Generate Test features and Predict probabilities"
   ]
  },
  {
   "cell_type": "code",
   "execution_count": null,
   "id": "9e4262d2-2f01-4bef-a4a9-28de1b39e17d",
   "metadata": {},
   "outputs": [],
   "source": [
    "data_dir_path = get_data_dir_path()"
   ]
  },
  {
   "cell_type": "code",
   "execution_count": null,
   "id": "6e7498fa-895f-481f-bf01-9c45f2d068dd",
   "metadata": {},
   "outputs": [],
   "source": [
    "\n",
    "df_header_test = Table.read(test_data_head_path, format='fits').to_pandas()\n",
    "df_phot_test = Table.read(test_data_phot_path, format='fits').to_pandas()"
   ]
  },
  {
   "cell_type": "code",
   "execution_count": null,
   "id": "d992ed86-720d-4b59-bee7-7a22848b6422",
   "metadata": {},
   "outputs": [],
   "source": [
    "test_features_df = extract_features_all_lightcurves(df_phot_test, \n",
    "                                                     \"SNID\", \n",
    "                                                     pcs, \n",
    "                                                     [b'g', b'r'])\n",
    "test_features_df = append_y_true_col(features_df=test_features_df,\n",
    "                                      prediction_type_nos=[149, 150, 151],\n",
    "                                      meta_df = df_header_test, \n",
    "                                      meta_key_col_name = \"SNID\",\n",
    "                                      meta_type_col_name = \"SNTYPE\")"
   ]
  },
  {
   "cell_type": "code",
   "execution_count": null,
   "id": "d01d57d6-328f-4428-b8e1-187ce30acb74",
   "metadata": {},
   "outputs": [],
   "source": [
    "from kndetect.predict import load_classifier, predict_kn_score"
   ]
  },
  {
   "cell_type": "code",
   "execution_count": null,
   "id": "6102b711-1d01-492b-9c50-3b8fe2093d6d",
   "metadata": {},
   "outputs": [],
   "source": [
    "clf1=load_classifier(\"complete.pkl\")"
   ]
  },
  {
   "cell_type": "code",
   "execution_count": null,
   "id": "f23773e9-530a-4228-bdb2-1e0672bc8acf",
   "metadata": {},
   "outputs": [],
   "source": [
    "probabilities, filtered_indices = predict_kn_score(clf1, test_features_df)"
   ]
  },
  {
   "cell_type": "code",
   "execution_count": null,
   "id": "b015ad45-1ecf-4815-8f8e-d83f281f3b0a",
   "metadata": {},
   "outputs": [],
   "source": [
    "test_features_df['y_pred_score'] = probabilities.T[1]"
   ]
  },
  {
   "cell_type": "code",
   "execution_count": null,
   "id": "531d103d-6664-4985-ac93-684c3c73947d",
   "metadata": {},
   "outputs": [],
   "source": [
    "test_features_df"
   ]
  },
  {
   "cell_type": "code",
   "execution_count": null,
   "id": "9b0e6a90-ba54-449c-938a-dac063d67a29",
   "metadata": {},
   "outputs": [],
   "source": []
  }
 ],
 "metadata": {
  "kernelspec": {
   "display_name": "kndetect",
   "language": "python",
   "name": "kndetect"
  },
  "language_info": {
   "codemirror_mode": {
    "name": "ipython",
    "version": 3
   },
   "file_extension": ".py",
   "mimetype": "text/x-python",
   "name": "python",
   "nbconvert_exporter": "python",
   "pygments_lexer": "ipython3",
   "version": "3.8.0"
  }
 },
 "nbformat": 4,
 "nbformat_minor": 5
}
