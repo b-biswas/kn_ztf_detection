{
 "cells": [
  {
   "cell_type": "code",
   "execution_count": 1,
   "id": "fb32441c-9cf0-4ec9-93f3-bb4c893f6c3c",
   "metadata": {},
   "outputs": [],
   "source": [
    "import os \n",
    "import numpy as np\n",
    "import pickle \n",
    "from astropy.table import Table"
   ]
  },
  {
   "cell_type": "code",
   "execution_count": 2,
   "id": "f6938269-4eb6-410a-bbdc-16f121c4c45b",
   "metadata": {},
   "outputs": [],
   "source": [
    "train_data_head_path = '/sps/lsst/users/bbiswas/data/kilonova_datasets/train_final_master_HEAD.FITS'\n",
    "train_data_phot_path = '/sps/lsst/users/bbiswas/data/kilonova_datasets/train_final_master_PHOT.FITS'\n",
    "test_data_head_path = '/sps/lsst/users/bbiswas/data/kilonova_datasets/test_final_master_HEAD.FITS'\n",
    "test_data_phot_path = '/sps/lsst/users/bbiswas/data/kilonova_datasets/test_final_master_PHOT.FITS'"
   ]
  },
  {
   "cell_type": "code",
   "execution_count": 3,
   "id": "029656f1-e929-4749-9ee9-47266c70bef4",
   "metadata": {},
   "outputs": [],
   "source": [
    "df_header = Table.read(train_data_head_path, format='fits').to_pandas()\n",
    "df_phot = Table.read(train_data_phot_path, format='fits').to_pandas()"
   ]
  },
  {
   "cell_type": "code",
   "execution_count": 4,
   "id": "42eb80fa-b707-4322-a542-5faf20691c2c",
   "metadata": {},
   "outputs": [],
   "source": [
    "from kndetect.utils import load_pcs, get_event_type, get_data_dir_path\n",
    "from kndetect.predict_features import extract_features_all_lightcurves\n",
    "from kndetect.training import append_y_true_col"
   ]
  },
  {
   "cell_type": "code",
   "execution_count": 5,
   "id": "af72cf71-5e02-4ddf-a865-86a3f430bd20",
   "metadata": {},
   "outputs": [],
   "source": [
    "pcs = load_pcs()"
   ]
  },
  {
   "cell_type": "code",
   "execution_count": 6,
   "id": "eb61a952-d3de-4dab-b023-a2b71ade3ea4",
   "metadata": {},
   "outputs": [
    {
     "name": "stderr",
     "output_type": "stream",
     "text": [
      "100%|██████████| 22280/22280 [40:58<00:00,  9.06it/s] \n"
     ]
    }
   ],
   "source": [
    "train_features_df = extract_features_all_lightcurves(df_phot, \n",
    "                                                     \"SNID\", \n",
    "                                                     pcs, \n",
    "                                                     [b'g', b'r'])"
   ]
  },
  {
   "cell_type": "code",
   "execution_count": 7,
   "id": "cafe266c-8727-4789-a83c-10b63489012e",
   "metadata": {},
   "outputs": [],
   "source": [
    "train_features_df = append_y_true_col(features_df=train_features_df,\n",
    "                                      prediction_type_nos=[149, 150, 151],\n",
    "                                      meta_df = df_header, \n",
    "                                      meta_key_col_name = \"SNID\",\n",
    "                                      meta_type_col_name = \"SNTYPE\")"
   ]
  },
  {
   "cell_type": "markdown",
   "id": "7d3309aa-93a0-480b-9101-c0de061abd48",
   "metadata": {},
   "source": [
    "# Now Train the classifier"
   ]
  },
  {
   "cell_type": "code",
   "execution_count": 8,
   "id": "6042b0a3-d721-4e12-8884-32ad7c6fb9cb",
   "metadata": {},
   "outputs": [],
   "source": [
    "from kndetect.training import train_classifier"
   ]
  },
  {
   "cell_type": "code",
   "execution_count": 9,
   "id": "1e64397b-462a-48e7-9b36-64fc79221827",
   "metadata": {},
   "outputs": [
    {
     "name": "stderr",
     "output_type": "stream",
     "text": [
      "/pbs/throng/lsst/users/bbiswas/miniconda3/envs/kndetect/lib/python3.8/site-packages/sklearn/base.py:443: UserWarning: X has feature names, but RandomForestClassifier was fitted without feature names\n",
      "  warnings.warn(\n",
      "/pbs/throng/lsst/users/bbiswas/miniconda3/envs/kndetect/lib/python3.8/site-packages/sklearn/base.py:443: UserWarning: X has feature names, but RandomForestClassifier was fitted without feature names\n",
      "  warnings.warn(\n"
     ]
    }
   ],
   "source": [
    "clf, features_df = train_classifier(train_features_df)"
   ]
  },
  {
   "cell_type": "code",
   "execution_count": 10,
   "id": "8499f9b2-73b5-4399-bd09-5d8ceff9af12",
   "metadata": {},
   "outputs": [],
   "source": [
    "data_dir = get_data_dir_path()\n",
    "with open(os.path.join(data_dir, 'complete.pkl'), 'wb') as files:\n",
    "    pickle.dump(clf, files)"
   ]
  },
  {
   "cell_type": "code",
   "execution_count": 11,
   "id": "dbf55df0-f115-4872-a630-8ed01f429cbf",
   "metadata": {},
   "outputs": [],
   "source": [
    "# Generate Test features and Predict probabilities"
   ]
  },
  {
   "cell_type": "code",
   "execution_count": 12,
   "id": "9e4262d2-2f01-4bef-a4a9-28de1b39e17d",
   "metadata": {},
   "outputs": [],
   "source": [
    "data_dir_path = get_data_dir_path()"
   ]
  },
  {
   "cell_type": "code",
   "execution_count": 13,
   "id": "6e7498fa-895f-481f-bf01-9c45f2d068dd",
   "metadata": {},
   "outputs": [],
   "source": [
    "\n",
    "df_header_test = Table.read(test_data_head_path, format='fits').to_pandas()\n",
    "df_phot_test = Table.read(test_data_phot_path, format='fits').to_pandas()"
   ]
  },
  {
   "cell_type": "code",
   "execution_count": 14,
   "id": "d992ed86-720d-4b59-bee7-7a22848b6422",
   "metadata": {},
   "outputs": [
    {
     "name": "stderr",
     "output_type": "stream",
     "text": [
      "100%|██████████| 21288/21288 [38:02<00:00,  9.33it/s] \n"
     ]
    }
   ],
   "source": [
    "test_features_df = extract_features_all_lightcurves(df_phot_test, \n",
    "                                                     \"SNID\", \n",
    "                                                     pcs, \n",
    "                                                     [b'g', b'r'])\n",
    "test_features_df = append_y_true_col(features_df=test_features_df,\n",
    "                                      prediction_type_nos=[149, 150, 151],\n",
    "                                      meta_df = df_header_test, \n",
    "                                      meta_key_col_name = \"SNID\",\n",
    "                                      meta_type_col_name = \"SNTYPE\")"
   ]
  },
  {
   "cell_type": "code",
   "execution_count": 15,
   "id": "d01d57d6-328f-4428-b8e1-187ce30acb74",
   "metadata": {},
   "outputs": [],
   "source": [
    "from kndetect.predict import load_classifier, predict_kn_score"
   ]
  },
  {
   "cell_type": "code",
   "execution_count": 16,
   "id": "6102b711-1d01-492b-9c50-3b8fe2093d6d",
   "metadata": {},
   "outputs": [],
   "source": [
    "clf1=load_classifier(\"complete.pkl\")"
   ]
  },
  {
   "cell_type": "code",
   "execution_count": 17,
   "id": "f23773e9-530a-4228-bdb2-1e0672bc8acf",
   "metadata": {},
   "outputs": [],
   "source": [
    "probabilities, filtered_indices = predict_kn_score(clf1, test_features_df)"
   ]
  },
  {
   "cell_type": "code",
   "execution_count": 18,
   "id": "b015ad45-1ecf-4815-8f8e-d83f281f3b0a",
   "metadata": {},
   "outputs": [],
   "source": [
    "test_features_df['y_pred_score'] = probabilities.T[1]"
   ]
  },
  {
   "cell_type": "code",
   "execution_count": 19,
   "id": "531d103d-6664-4985-ac93-684c3c73947d",
   "metadata": {},
   "outputs": [
    {
     "data": {
      "text/html": [
       "<div>\n",
       "<style scoped>\n",
       "    .dataframe tbody tr th:only-of-type {\n",
       "        vertical-align: middle;\n",
       "    }\n",
       "\n",
       "    .dataframe tbody tr th {\n",
       "        vertical-align: top;\n",
       "    }\n",
       "\n",
       "    .dataframe thead th {\n",
       "        text-align: right;\n",
       "    }\n",
       "</style>\n",
       "<table border=\"1\" class=\"dataframe\">\n",
       "  <thead>\n",
       "    <tr style=\"text-align: right;\">\n",
       "      <th></th>\n",
       "      <th>coeff1_g</th>\n",
       "      <th>coeff2_g</th>\n",
       "      <th>coeff3_g</th>\n",
       "      <th>residuo_g</th>\n",
       "      <th>maxflux_g</th>\n",
       "      <th>coeff1_r</th>\n",
       "      <th>coeff2_r</th>\n",
       "      <th>coeff3_r</th>\n",
       "      <th>residuo_r</th>\n",
       "      <th>maxflux_r</th>\n",
       "      <th>key</th>\n",
       "      <th>type</th>\n",
       "      <th>type_names</th>\n",
       "      <th>y_true</th>\n",
       "      <th>y_pred_score</th>\n",
       "    </tr>\n",
       "  </thead>\n",
       "  <tbody>\n",
       "    <tr>\n",
       "      <th>0</th>\n",
       "      <td>1.732623e-09</td>\n",
       "      <td>-2.509101e-11</td>\n",
       "      <td>1.097553e+00</td>\n",
       "      <td>1.938472</td>\n",
       "      <td>3813.011456</td>\n",
       "      <td>4.975693e-09</td>\n",
       "      <td>-2.662738e-09</td>\n",
       "      <td>1.250420e+00</td>\n",
       "      <td>4.353821</td>\n",
       "      <td>5518.907806</td>\n",
       "      <td>1612</td>\n",
       "      <td>149</td>\n",
       "      <td>149: KN GRANDMA</td>\n",
       "      <td>True</td>\n",
       "      <td>0.751210</td>\n",
       "    </tr>\n",
       "    <tr>\n",
       "      <th>1</th>\n",
       "      <td>1.593189e+00</td>\n",
       "      <td>1.239720e-01</td>\n",
       "      <td>-2.053517e-01</td>\n",
       "      <td>5.750576</td>\n",
       "      <td>1215.978638</td>\n",
       "      <td>1.102308e+00</td>\n",
       "      <td>-3.386281e-09</td>\n",
       "      <td>-8.771612e-09</td>\n",
       "      <td>9.126114</td>\n",
       "      <td>1900.364746</td>\n",
       "      <td>10871</td>\n",
       "      <td>162</td>\n",
       "      <td>162: ILOT</td>\n",
       "      <td>False</td>\n",
       "      <td>0.000000</td>\n",
       "    </tr>\n",
       "    <tr>\n",
       "      <th>2</th>\n",
       "      <td>-1.025571e-09</td>\n",
       "      <td>-3.375859e-09</td>\n",
       "      <td>1.044571e+00</td>\n",
       "      <td>1.317318</td>\n",
       "      <td>764.863892</td>\n",
       "      <td>-1.401216e-09</td>\n",
       "      <td>-3.309492e-09</td>\n",
       "      <td>1.104302e+00</td>\n",
       "      <td>0.919006</td>\n",
       "      <td>805.522644</td>\n",
       "      <td>10872</td>\n",
       "      <td>150</td>\n",
       "      <td>150: KN GW170817</td>\n",
       "      <td>True</td>\n",
       "      <td>0.816085</td>\n",
       "    </tr>\n",
       "    <tr>\n",
       "      <th>3</th>\n",
       "      <td>-4.666286e-01</td>\n",
       "      <td>-1.631006e-09</td>\n",
       "      <td>1.739795e+00</td>\n",
       "      <td>13.765211</td>\n",
       "      <td>2329.209717</td>\n",
       "      <td>3.035286e-06</td>\n",
       "      <td>1.190303e-09</td>\n",
       "      <td>7.239731e-01</td>\n",
       "      <td>11.834150</td>\n",
       "      <td>1588.494263</td>\n",
       "      <td>11422</td>\n",
       "      <td>180</td>\n",
       "      <td>180: RRLyrae</td>\n",
       "      <td>False</td>\n",
       "      <td>0.033333</td>\n",
       "    </tr>\n",
       "    <tr>\n",
       "      <th>4</th>\n",
       "      <td>-2.676815e-01</td>\n",
       "      <td>-6.766489e-10</td>\n",
       "      <td>8.081538e-01</td>\n",
       "      <td>41.273416</td>\n",
       "      <td>20902.640625</td>\n",
       "      <td>-1.497712e-01</td>\n",
       "      <td>2.239404e-01</td>\n",
       "      <td>8.265010e-01</td>\n",
       "      <td>35.546320</td>\n",
       "      <td>11635.100586</td>\n",
       "      <td>13390</td>\n",
       "      <td>180</td>\n",
       "      <td>180: RRLyrae</td>\n",
       "      <td>False</td>\n",
       "      <td>0.000000</td>\n",
       "    </tr>\n",
       "    <tr>\n",
       "      <th>...</th>\n",
       "      <td>...</td>\n",
       "      <td>...</td>\n",
       "      <td>...</td>\n",
       "      <td>...</td>\n",
       "      <td>...</td>\n",
       "      <td>...</td>\n",
       "      <td>...</td>\n",
       "      <td>...</td>\n",
       "      <td>...</td>\n",
       "      <td>...</td>\n",
       "      <td>...</td>\n",
       "      <td>...</td>\n",
       "      <td>...</td>\n",
       "      <td>...</td>\n",
       "      <td>...</td>\n",
       "    </tr>\n",
       "    <tr>\n",
       "      <th>21283</th>\n",
       "      <td>-3.042166e-09</td>\n",
       "      <td>1.438937e+00</td>\n",
       "      <td>1.222298e+00</td>\n",
       "      <td>4.003843</td>\n",
       "      <td>1325.314697</td>\n",
       "      <td>1.071865e+00</td>\n",
       "      <td>1.785420e-01</td>\n",
       "      <td>1.248190e-09</td>\n",
       "      <td>1.808287</td>\n",
       "      <td>1154.043457</td>\n",
       "      <td>137049400</td>\n",
       "      <td>183</td>\n",
       "      <td>183: PHOEBE</td>\n",
       "      <td>False</td>\n",
       "      <td>0.066667</td>\n",
       "    </tr>\n",
       "    <tr>\n",
       "      <th>21284</th>\n",
       "      <td>1.925799e-01</td>\n",
       "      <td>3.392688e-01</td>\n",
       "      <td>6.042987e-01</td>\n",
       "      <td>1.606676</td>\n",
       "      <td>229.678802</td>\n",
       "      <td>-1.666384e-09</td>\n",
       "      <td>-1.315977e-09</td>\n",
       "      <td>8.413959e-01</td>\n",
       "      <td>1.900921</td>\n",
       "      <td>785.573853</td>\n",
       "      <td>137051059</td>\n",
       "      <td>181</td>\n",
       "      <td>M 181: dwarf_flares</td>\n",
       "      <td>False</td>\n",
       "      <td>0.626033</td>\n",
       "    </tr>\n",
       "    <tr>\n",
       "      <th>21285</th>\n",
       "      <td>7.285402e-01</td>\n",
       "      <td>-4.506676e-10</td>\n",
       "      <td>2.336910e-01</td>\n",
       "      <td>1.023906</td>\n",
       "      <td>374.421295</td>\n",
       "      <td>1.046572e+00</td>\n",
       "      <td>-1.830059e-09</td>\n",
       "      <td>-1.155196e-08</td>\n",
       "      <td>1.273695</td>\n",
       "      <td>341.236908</td>\n",
       "      <td>137054088</td>\n",
       "      <td>143</td>\n",
       "      <td>143: Iax</td>\n",
       "      <td>False</td>\n",
       "      <td>0.000000</td>\n",
       "    </tr>\n",
       "    <tr>\n",
       "      <th>21286</th>\n",
       "      <td>-1.846909e-03</td>\n",
       "      <td>-4.560111e-09</td>\n",
       "      <td>9.970787e-01</td>\n",
       "      <td>1.367441</td>\n",
       "      <td>1000.960266</td>\n",
       "      <td>-2.760333e-09</td>\n",
       "      <td>-3.718945e-09</td>\n",
       "      <td>9.958187e-01</td>\n",
       "      <td>2.048643</td>\n",
       "      <td>3378.102295</td>\n",
       "      <td>137071432</td>\n",
       "      <td>181</td>\n",
       "      <td>M 181: dwarf_flares</td>\n",
       "      <td>False</td>\n",
       "      <td>0.809916</td>\n",
       "    </tr>\n",
       "    <tr>\n",
       "      <th>21287</th>\n",
       "      <td>1.069144e+00</td>\n",
       "      <td>-7.441747e-10</td>\n",
       "      <td>-1.114966e-08</td>\n",
       "      <td>1.226636</td>\n",
       "      <td>246.661697</td>\n",
       "      <td>9.630983e-01</td>\n",
       "      <td>1.281087e-08</td>\n",
       "      <td>-1.202157e-11</td>\n",
       "      <td>1.605024</td>\n",
       "      <td>299.057190</td>\n",
       "      <td>137078995</td>\n",
       "      <td>102</td>\n",
       "      <td>102: MOSFIT-Ibc</td>\n",
       "      <td>False</td>\n",
       "      <td>0.000000</td>\n",
       "    </tr>\n",
       "  </tbody>\n",
       "</table>\n",
       "<p>21288 rows × 15 columns</p>\n",
       "</div>"
      ],
      "text/plain": [
       "           coeff1_g      coeff2_g      coeff3_g  residuo_g     maxflux_g  \\\n",
       "0      1.732623e-09 -2.509101e-11  1.097553e+00   1.938472   3813.011456   \n",
       "1      1.593189e+00  1.239720e-01 -2.053517e-01   5.750576   1215.978638   \n",
       "2     -1.025571e-09 -3.375859e-09  1.044571e+00   1.317318    764.863892   \n",
       "3     -4.666286e-01 -1.631006e-09  1.739795e+00  13.765211   2329.209717   \n",
       "4     -2.676815e-01 -6.766489e-10  8.081538e-01  41.273416  20902.640625   \n",
       "...             ...           ...           ...        ...           ...   \n",
       "21283 -3.042166e-09  1.438937e+00  1.222298e+00   4.003843   1325.314697   \n",
       "21284  1.925799e-01  3.392688e-01  6.042987e-01   1.606676    229.678802   \n",
       "21285  7.285402e-01 -4.506676e-10  2.336910e-01   1.023906    374.421295   \n",
       "21286 -1.846909e-03 -4.560111e-09  9.970787e-01   1.367441   1000.960266   \n",
       "21287  1.069144e+00 -7.441747e-10 -1.114966e-08   1.226636    246.661697   \n",
       "\n",
       "           coeff1_r      coeff2_r      coeff3_r  residuo_r     maxflux_r  \\\n",
       "0      4.975693e-09 -2.662738e-09  1.250420e+00   4.353821   5518.907806   \n",
       "1      1.102308e+00 -3.386281e-09 -8.771612e-09   9.126114   1900.364746   \n",
       "2     -1.401216e-09 -3.309492e-09  1.104302e+00   0.919006    805.522644   \n",
       "3      3.035286e-06  1.190303e-09  7.239731e-01  11.834150   1588.494263   \n",
       "4     -1.497712e-01  2.239404e-01  8.265010e-01  35.546320  11635.100586   \n",
       "...             ...           ...           ...        ...           ...   \n",
       "21283  1.071865e+00  1.785420e-01  1.248190e-09   1.808287   1154.043457   \n",
       "21284 -1.666384e-09 -1.315977e-09  8.413959e-01   1.900921    785.573853   \n",
       "21285  1.046572e+00 -1.830059e-09 -1.155196e-08   1.273695    341.236908   \n",
       "21286 -2.760333e-09 -3.718945e-09  9.958187e-01   2.048643   3378.102295   \n",
       "21287  9.630983e-01  1.281087e-08 -1.202157e-11   1.605024    299.057190   \n",
       "\n",
       "             key  type           type_names  y_true  y_pred_score  \n",
       "0           1612   149      149: KN GRANDMA    True      0.751210  \n",
       "1          10871   162            162: ILOT   False      0.000000  \n",
       "2          10872   150     150: KN GW170817    True      0.816085  \n",
       "3          11422   180         180: RRLyrae   False      0.033333  \n",
       "4          13390   180         180: RRLyrae   False      0.000000  \n",
       "...          ...   ...                  ...     ...           ...  \n",
       "21283  137049400   183          183: PHOEBE   False      0.066667  \n",
       "21284  137051059   181  M 181: dwarf_flares   False      0.626033  \n",
       "21285  137054088   143             143: Iax   False      0.000000  \n",
       "21286  137071432   181  M 181: dwarf_flares   False      0.809916  \n",
       "21287  137078995   102      102: MOSFIT-Ibc   False      0.000000  \n",
       "\n",
       "[21288 rows x 15 columns]"
      ]
     },
     "execution_count": 19,
     "metadata": {},
     "output_type": "execute_result"
    }
   ],
   "source": [
    "test_features_df"
   ]
  },
  {
   "cell_type": "code",
   "execution_count": null,
   "id": "9b0e6a90-ba54-449c-938a-dac063d67a29",
   "metadata": {},
   "outputs": [],
   "source": []
  }
 ],
 "metadata": {
  "kernelspec": {
   "display_name": "kndetect",
   "language": "python",
   "name": "kndetect"
  },
  "language_info": {
   "codemirror_mode": {
    "name": "ipython",
    "version": 3
   },
   "file_extension": ".py",
   "mimetype": "text/x-python",
   "name": "python",
   "nbconvert_exporter": "python",
   "pygments_lexer": "ipython3",
   "version": "3.8.0"
  }
 },
 "nbformat": 4,
 "nbformat_minor": 5
}
